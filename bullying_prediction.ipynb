{
  "nbformat": 4,
  "nbformat_minor": 0,
  "metadata": {
    "colab": {
      "provenance": []
    },
    "kernelspec": {
      "name": "python3",
      "display_name": "Python 3"
    },
    "language_info": {
      "name": "python"
    }
  },
  "cells": [
    {
      "cell_type": "code",
      "execution_count": null,
      "metadata": {
        "id": "8A-xg9zYTST0"
      },
      "outputs": [],
      "source": [
        "import numpy as np\n",
        "import pandas as pd\n",
        "import seaborn as sns\n",
        "import matplotlib.pyplot as plt\n",
        "from sklearn.model_selection import train_test_split\n",
        "from sklearn.metrics import accuracy_score\n",
        "from sklearn.tree import DecisionTreeClassifier\n",
        "from sklearn import tree\n",
        "# to encode label unique values into integer\n",
        "from sklearn.preprocessing import LabelEncoder"
      ]
    },
    {
      "cell_type": "code",
      "source": [
        "#importing the dataset"
      ],
      "metadata": {
        "id": "snOzxoUAXasp"
      },
      "execution_count": null,
      "outputs": []
    },
    {
      "cell_type": "code",
      "source": [
        "data = pd.read_csv('/content/Bullying_2018.csv',sep = \";\")\n",
        "data.head(10)"
      ],
      "metadata": {
        "colab": {
          "base_uri": "https://localhost:8080/",
          "height": 427
        },
        "id": "WJxQQYntUies",
        "outputId": "bb3d136d-ea0b-4aa0-d943-b351565123af"
      },
      "execution_count": null,
      "outputs": [
        {
          "output_type": "execute_result",
          "data": {
            "text/plain": [
              "   record Bullied_on_school_property_in_past_12_months  \\\n",
              "0       1                                          Yes   \n",
              "1       2                                           No   \n",
              "2       3                                           No   \n",
              "3       4                                           No   \n",
              "4       5                                           No   \n",
              "5       6                                           No   \n",
              "6       7                                           No   \n",
              "7       8                                           No   \n",
              "8       9                                           No   \n",
              "9      10                                          Yes   \n",
              "\n",
              "  Bullied_not_on_school_property_in_past_12_months  \\\n",
              "0                                              Yes   \n",
              "1                                               No   \n",
              "2                                               No   \n",
              "3                                               No   \n",
              "4                                               No   \n",
              "5                                               No   \n",
              "6                                               No   \n",
              "7                                               No   \n",
              "8                                               No   \n",
              "9                                               No   \n",
              "\n",
              "  Cyber_bullied_in_past_12_months    Custom_Age     Sex Physically_attacked  \\\n",
              "0                                  13 years old  Female             0 times   \n",
              "1                              No  13 years old  Female             0 times   \n",
              "2                              No  14 years old    Male             0 times   \n",
              "3                              No  16 years old    Male             0 times   \n",
              "4                              No  13 years old  Female             0 times   \n",
              "5                              No  13 years old    Male             0 times   \n",
              "6                              No  14 years old  Female              1 time   \n",
              "7                              No  12 years old  Female             0 times   \n",
              "8                              No  13 years old    Male              1 time   \n",
              "9                              No  14 years old  Female             0 times   \n",
              "\n",
              "  Physical_fighting Felt_lonely Close_friends Miss_school_no_permission  \\\n",
              "0           0 times      Always             2           10 or more days   \n",
              "1           0 times       Never     3 or more                    0 days   \n",
              "2           0 times       Never     3 or more                    0 days   \n",
              "3      2 or 3 times       Never     3 or more                    0 days   \n",
              "4           0 times      Rarely     3 or more                    0 days   \n",
              "5            1 time       Never     3 or more                    0 days   \n",
              "6           0 times   Sometimes     3 or more                    0 days   \n",
              "7           0 times      Rarely     3 or more                    0 days   \n",
              "8      2 or 3 times       Never     3 or more               6 to 9 days   \n",
              "9           0 times      Always             0                    0 days   \n",
              "\n",
              "  Other_students_kind_and_helpful Parents_understand_problems  \\\n",
              "0                           Never                      Always   \n",
              "1                       Sometimes                      Always   \n",
              "2                       Sometimes                      Always   \n",
              "3                       Sometimes                               \n",
              "4                Most of the time            Most of the time   \n",
              "5                Most of the time                      Always   \n",
              "6                Most of the time                      Always   \n",
              "7                Most of the time                       Never   \n",
              "8                Most of the time            Most of the time   \n",
              "9                       Sometimes                       Never   \n",
              "\n",
              "  Most_of_the_time_or_always_felt_lonely  \\\n",
              "0                                    Yes   \n",
              "1                                     No   \n",
              "2                                     No   \n",
              "3                                     No   \n",
              "4                                     No   \n",
              "5                                     No   \n",
              "6                                     No   \n",
              "7                                     No   \n",
              "8                                     No   \n",
              "9                                    Yes   \n",
              "\n",
              "  Missed_classes_or_school_without_permission Were_underweight  \\\n",
              "0                                         Yes                    \n",
              "1                                          No                    \n",
              "2                                          No               No   \n",
              "3                                          No               No   \n",
              "4                                          No                    \n",
              "5                                          No               No   \n",
              "6                                          No                    \n",
              "7                                          No                    \n",
              "8                                         Yes                    \n",
              "9                                          No                    \n",
              "\n",
              "  Were_overweight Were_obese  \n",
              "0                             \n",
              "1                             \n",
              "2              No         No  \n",
              "3              No         No  \n",
              "4                             \n",
              "5              No         No  \n",
              "6                             \n",
              "7                             \n",
              "8                             \n",
              "9                             "
            ],
            "text/html": [
              "\n",
              "  <div id=\"df-6f5335ec-1cb3-4818-b2d8-71dfe7482436\">\n",
              "    <div class=\"colab-df-container\">\n",
              "      <div>\n",
              "<style scoped>\n",
              "    .dataframe tbody tr th:only-of-type {\n",
              "        vertical-align: middle;\n",
              "    }\n",
              "\n",
              "    .dataframe tbody tr th {\n",
              "        vertical-align: top;\n",
              "    }\n",
              "\n",
              "    .dataframe thead th {\n",
              "        text-align: right;\n",
              "    }\n",
              "</style>\n",
              "<table border=\"1\" class=\"dataframe\">\n",
              "  <thead>\n",
              "    <tr style=\"text-align: right;\">\n",
              "      <th></th>\n",
              "      <th>record</th>\n",
              "      <th>Bullied_on_school_property_in_past_12_months</th>\n",
              "      <th>Bullied_not_on_school_property_in_past_12_months</th>\n",
              "      <th>Cyber_bullied_in_past_12_months</th>\n",
              "      <th>Custom_Age</th>\n",
              "      <th>Sex</th>\n",
              "      <th>Physically_attacked</th>\n",
              "      <th>Physical_fighting</th>\n",
              "      <th>Felt_lonely</th>\n",
              "      <th>Close_friends</th>\n",
              "      <th>Miss_school_no_permission</th>\n",
              "      <th>Other_students_kind_and_helpful</th>\n",
              "      <th>Parents_understand_problems</th>\n",
              "      <th>Most_of_the_time_or_always_felt_lonely</th>\n",
              "      <th>Missed_classes_or_school_without_permission</th>\n",
              "      <th>Were_underweight</th>\n",
              "      <th>Were_overweight</th>\n",
              "      <th>Were_obese</th>\n",
              "    </tr>\n",
              "  </thead>\n",
              "  <tbody>\n",
              "    <tr>\n",
              "      <th>0</th>\n",
              "      <td>1</td>\n",
              "      <td>Yes</td>\n",
              "      <td>Yes</td>\n",
              "      <td></td>\n",
              "      <td>13 years old</td>\n",
              "      <td>Female</td>\n",
              "      <td>0 times</td>\n",
              "      <td>0 times</td>\n",
              "      <td>Always</td>\n",
              "      <td>2</td>\n",
              "      <td>10 or more days</td>\n",
              "      <td>Never</td>\n",
              "      <td>Always</td>\n",
              "      <td>Yes</td>\n",
              "      <td>Yes</td>\n",
              "      <td></td>\n",
              "      <td></td>\n",
              "      <td></td>\n",
              "    </tr>\n",
              "    <tr>\n",
              "      <th>1</th>\n",
              "      <td>2</td>\n",
              "      <td>No</td>\n",
              "      <td>No</td>\n",
              "      <td>No</td>\n",
              "      <td>13 years old</td>\n",
              "      <td>Female</td>\n",
              "      <td>0 times</td>\n",
              "      <td>0 times</td>\n",
              "      <td>Never</td>\n",
              "      <td>3 or more</td>\n",
              "      <td>0 days</td>\n",
              "      <td>Sometimes</td>\n",
              "      <td>Always</td>\n",
              "      <td>No</td>\n",
              "      <td>No</td>\n",
              "      <td></td>\n",
              "      <td></td>\n",
              "      <td></td>\n",
              "    </tr>\n",
              "    <tr>\n",
              "      <th>2</th>\n",
              "      <td>3</td>\n",
              "      <td>No</td>\n",
              "      <td>No</td>\n",
              "      <td>No</td>\n",
              "      <td>14 years old</td>\n",
              "      <td>Male</td>\n",
              "      <td>0 times</td>\n",
              "      <td>0 times</td>\n",
              "      <td>Never</td>\n",
              "      <td>3 or more</td>\n",
              "      <td>0 days</td>\n",
              "      <td>Sometimes</td>\n",
              "      <td>Always</td>\n",
              "      <td>No</td>\n",
              "      <td>No</td>\n",
              "      <td>No</td>\n",
              "      <td>No</td>\n",
              "      <td>No</td>\n",
              "    </tr>\n",
              "    <tr>\n",
              "      <th>3</th>\n",
              "      <td>4</td>\n",
              "      <td>No</td>\n",
              "      <td>No</td>\n",
              "      <td>No</td>\n",
              "      <td>16 years old</td>\n",
              "      <td>Male</td>\n",
              "      <td>0 times</td>\n",
              "      <td>2 or 3 times</td>\n",
              "      <td>Never</td>\n",
              "      <td>3 or more</td>\n",
              "      <td>0 days</td>\n",
              "      <td>Sometimes</td>\n",
              "      <td></td>\n",
              "      <td>No</td>\n",
              "      <td>No</td>\n",
              "      <td>No</td>\n",
              "      <td>No</td>\n",
              "      <td>No</td>\n",
              "    </tr>\n",
              "    <tr>\n",
              "      <th>4</th>\n",
              "      <td>5</td>\n",
              "      <td>No</td>\n",
              "      <td>No</td>\n",
              "      <td>No</td>\n",
              "      <td>13 years old</td>\n",
              "      <td>Female</td>\n",
              "      <td>0 times</td>\n",
              "      <td>0 times</td>\n",
              "      <td>Rarely</td>\n",
              "      <td>3 or more</td>\n",
              "      <td>0 days</td>\n",
              "      <td>Most of the time</td>\n",
              "      <td>Most of the time</td>\n",
              "      <td>No</td>\n",
              "      <td>No</td>\n",
              "      <td></td>\n",
              "      <td></td>\n",
              "      <td></td>\n",
              "    </tr>\n",
              "    <tr>\n",
              "      <th>5</th>\n",
              "      <td>6</td>\n",
              "      <td>No</td>\n",
              "      <td>No</td>\n",
              "      <td>No</td>\n",
              "      <td>13 years old</td>\n",
              "      <td>Male</td>\n",
              "      <td>0 times</td>\n",
              "      <td>1 time</td>\n",
              "      <td>Never</td>\n",
              "      <td>3 or more</td>\n",
              "      <td>0 days</td>\n",
              "      <td>Most of the time</td>\n",
              "      <td>Always</td>\n",
              "      <td>No</td>\n",
              "      <td>No</td>\n",
              "      <td>No</td>\n",
              "      <td>No</td>\n",
              "      <td>No</td>\n",
              "    </tr>\n",
              "    <tr>\n",
              "      <th>6</th>\n",
              "      <td>7</td>\n",
              "      <td>No</td>\n",
              "      <td>No</td>\n",
              "      <td>No</td>\n",
              "      <td>14 years old</td>\n",
              "      <td>Female</td>\n",
              "      <td>1 time</td>\n",
              "      <td>0 times</td>\n",
              "      <td>Sometimes</td>\n",
              "      <td>3 or more</td>\n",
              "      <td>0 days</td>\n",
              "      <td>Most of the time</td>\n",
              "      <td>Always</td>\n",
              "      <td>No</td>\n",
              "      <td>No</td>\n",
              "      <td></td>\n",
              "      <td></td>\n",
              "      <td></td>\n",
              "    </tr>\n",
              "    <tr>\n",
              "      <th>7</th>\n",
              "      <td>8</td>\n",
              "      <td>No</td>\n",
              "      <td>No</td>\n",
              "      <td>No</td>\n",
              "      <td>12 years old</td>\n",
              "      <td>Female</td>\n",
              "      <td>0 times</td>\n",
              "      <td>0 times</td>\n",
              "      <td>Rarely</td>\n",
              "      <td>3 or more</td>\n",
              "      <td>0 days</td>\n",
              "      <td>Most of the time</td>\n",
              "      <td>Never</td>\n",
              "      <td>No</td>\n",
              "      <td>No</td>\n",
              "      <td></td>\n",
              "      <td></td>\n",
              "      <td></td>\n",
              "    </tr>\n",
              "    <tr>\n",
              "      <th>8</th>\n",
              "      <td>9</td>\n",
              "      <td>No</td>\n",
              "      <td>No</td>\n",
              "      <td>No</td>\n",
              "      <td>13 years old</td>\n",
              "      <td>Male</td>\n",
              "      <td>1 time</td>\n",
              "      <td>2 or 3 times</td>\n",
              "      <td>Never</td>\n",
              "      <td>3 or more</td>\n",
              "      <td>6 to 9 days</td>\n",
              "      <td>Most of the time</td>\n",
              "      <td>Most of the time</td>\n",
              "      <td>No</td>\n",
              "      <td>Yes</td>\n",
              "      <td></td>\n",
              "      <td></td>\n",
              "      <td></td>\n",
              "    </tr>\n",
              "    <tr>\n",
              "      <th>9</th>\n",
              "      <td>10</td>\n",
              "      <td>Yes</td>\n",
              "      <td>No</td>\n",
              "      <td>No</td>\n",
              "      <td>14 years old</td>\n",
              "      <td>Female</td>\n",
              "      <td>0 times</td>\n",
              "      <td>0 times</td>\n",
              "      <td>Always</td>\n",
              "      <td>0</td>\n",
              "      <td>0 days</td>\n",
              "      <td>Sometimes</td>\n",
              "      <td>Never</td>\n",
              "      <td>Yes</td>\n",
              "      <td>No</td>\n",
              "      <td></td>\n",
              "      <td></td>\n",
              "      <td></td>\n",
              "    </tr>\n",
              "  </tbody>\n",
              "</table>\n",
              "</div>\n",
              "      <button class=\"colab-df-convert\" onclick=\"convertToInteractive('df-6f5335ec-1cb3-4818-b2d8-71dfe7482436')\"\n",
              "              title=\"Convert this dataframe to an interactive table.\"\n",
              "              style=\"display:none;\">\n",
              "        \n",
              "  <svg xmlns=\"http://www.w3.org/2000/svg\" height=\"24px\"viewBox=\"0 0 24 24\"\n",
              "       width=\"24px\">\n",
              "    <path d=\"M0 0h24v24H0V0z\" fill=\"none\"/>\n",
              "    <path d=\"M18.56 5.44l.94 2.06.94-2.06 2.06-.94-2.06-.94-.94-2.06-.94 2.06-2.06.94zm-11 1L8.5 8.5l.94-2.06 2.06-.94-2.06-.94L8.5 2.5l-.94 2.06-2.06.94zm10 10l.94 2.06.94-2.06 2.06-.94-2.06-.94-.94-2.06-.94 2.06-2.06.94z\"/><path d=\"M17.41 7.96l-1.37-1.37c-.4-.4-.92-.59-1.43-.59-.52 0-1.04.2-1.43.59L10.3 9.45l-7.72 7.72c-.78.78-.78 2.05 0 2.83L4 21.41c.39.39.9.59 1.41.59.51 0 1.02-.2 1.41-.59l7.78-7.78 2.81-2.81c.8-.78.8-2.07 0-2.86zM5.41 20L4 18.59l7.72-7.72 1.47 1.35L5.41 20z\"/>\n",
              "  </svg>\n",
              "      </button>\n",
              "      \n",
              "  <style>\n",
              "    .colab-df-container {\n",
              "      display:flex;\n",
              "      flex-wrap:wrap;\n",
              "      gap: 12px;\n",
              "    }\n",
              "\n",
              "    .colab-df-convert {\n",
              "      background-color: #E8F0FE;\n",
              "      border: none;\n",
              "      border-radius: 50%;\n",
              "      cursor: pointer;\n",
              "      display: none;\n",
              "      fill: #1967D2;\n",
              "      height: 32px;\n",
              "      padding: 0 0 0 0;\n",
              "      width: 32px;\n",
              "    }\n",
              "\n",
              "    .colab-df-convert:hover {\n",
              "      background-color: #E2EBFA;\n",
              "      box-shadow: 0px 1px 2px rgba(60, 64, 67, 0.3), 0px 1px 3px 1px rgba(60, 64, 67, 0.15);\n",
              "      fill: #174EA6;\n",
              "    }\n",
              "\n",
              "    [theme=dark] .colab-df-convert {\n",
              "      background-color: #3B4455;\n",
              "      fill: #D2E3FC;\n",
              "    }\n",
              "\n",
              "    [theme=dark] .colab-df-convert:hover {\n",
              "      background-color: #434B5C;\n",
              "      box-shadow: 0px 1px 3px 1px rgba(0, 0, 0, 0.15);\n",
              "      filter: drop-shadow(0px 1px 2px rgba(0, 0, 0, 0.3));\n",
              "      fill: #FFFFFF;\n",
              "    }\n",
              "  </style>\n",
              "\n",
              "      <script>\n",
              "        const buttonEl =\n",
              "          document.querySelector('#df-6f5335ec-1cb3-4818-b2d8-71dfe7482436 button.colab-df-convert');\n",
              "        buttonEl.style.display =\n",
              "          google.colab.kernel.accessAllowed ? 'block' : 'none';\n",
              "\n",
              "        async function convertToInteractive(key) {\n",
              "          const element = document.querySelector('#df-6f5335ec-1cb3-4818-b2d8-71dfe7482436');\n",
              "          const dataTable =\n",
              "            await google.colab.kernel.invokeFunction('convertToInteractive',\n",
              "                                                     [key], {});\n",
              "          if (!dataTable) return;\n",
              "\n",
              "          const docLinkHtml = 'Like what you see? Visit the ' +\n",
              "            '<a target=\"_blank\" href=https://colab.research.google.com/notebooks/data_table.ipynb>data table notebook</a>'\n",
              "            + ' to learn more about interactive tables.';\n",
              "          element.innerHTML = '';\n",
              "          dataTable['output_type'] = 'display_data';\n",
              "          await google.colab.output.renderOutput(dataTable, element);\n",
              "          const docLink = document.createElement('div');\n",
              "          docLink.innerHTML = docLinkHtml;\n",
              "          element.appendChild(docLink);\n",
              "        }\n",
              "      </script>\n",
              "    </div>\n",
              "  </div>\n",
              "  "
            ]
          },
          "metadata": {},
          "execution_count": 5
        }
      ]
    },
    {
      "cell_type": "code",
      "source": [
        "data.isnull().sum()"
      ],
      "metadata": {
        "colab": {
          "base_uri": "https://localhost:8080/"
        },
        "id": "UCRM8StXU-r2",
        "outputId": "fbdb1aea-21c7-4ef1-eebd-6f4c7575d886"
      },
      "execution_count": null,
      "outputs": [
        {
          "output_type": "execute_result",
          "data": {
            "text/plain": [
              "record                                              0\n",
              "Bullied_on_school_property_in_past_12_months        0\n",
              "Bullied_not_on_school_property_in_past_12_months    0\n",
              "Cyber_bullied_in_past_12_months                     0\n",
              "Custom_Age                                          0\n",
              "Sex                                                 0\n",
              "Physically_attacked                                 0\n",
              "Physical_fighting                                   0\n",
              "Felt_lonely                                         0\n",
              "Close_friends                                       0\n",
              "Miss_school_no_permission                           0\n",
              "Other_students_kind_and_helpful                     0\n",
              "Parents_understand_problems                         0\n",
              "Most_of_the_time_or_always_felt_lonely              0\n",
              "Missed_classes_or_school_without_permission         0\n",
              "Were_underweight                                    0\n",
              "Were_overweight                                     0\n",
              "Were_obese                                          0\n",
              "dtype: int64"
            ]
          },
          "metadata": {},
          "execution_count": 6
        }
      ]
    },
    {
      "cell_type": "code",
      "source": [
        "data.info()"
      ],
      "metadata": {
        "colab": {
          "base_uri": "https://localhost:8080/"
        },
        "id": "qx3sbkxHVSrD",
        "outputId": "cd885b84-d350-437d-b342-14d66efe3982"
      },
      "execution_count": null,
      "outputs": [
        {
          "output_type": "stream",
          "name": "stdout",
          "text": [
            "<class 'pandas.core.frame.DataFrame'>\n",
            "RangeIndex: 56981 entries, 0 to 56980\n",
            "Data columns (total 18 columns):\n",
            " #   Column                                            Non-Null Count  Dtype \n",
            "---  ------                                            --------------  ----- \n",
            " 0   record                                            56981 non-null  int64 \n",
            " 1   Bullied_on_school_property_in_past_12_months      56981 non-null  object\n",
            " 2   Bullied_not_on_school_property_in_past_12_months  56981 non-null  object\n",
            " 3   Cyber_bullied_in_past_12_months                   56981 non-null  object\n",
            " 4   Custom_Age                                        56981 non-null  object\n",
            " 5   Sex                                               56981 non-null  object\n",
            " 6   Physically_attacked                               56981 non-null  object\n",
            " 7   Physical_fighting                                 56981 non-null  object\n",
            " 8   Felt_lonely                                       56981 non-null  object\n",
            " 9   Close_friends                                     56981 non-null  object\n",
            " 10  Miss_school_no_permission                         56981 non-null  object\n",
            " 11  Other_students_kind_and_helpful                   56981 non-null  object\n",
            " 12  Parents_understand_problems                       56981 non-null  object\n",
            " 13  Most_of_the_time_or_always_felt_lonely            56981 non-null  object\n",
            " 14  Missed_classes_or_school_without_permission       56981 non-null  object\n",
            " 15  Were_underweight                                  56981 non-null  object\n",
            " 16  Were_overweight                                   56981 non-null  object\n",
            " 17  Were_obese                                        56981 non-null  object\n",
            "dtypes: int64(1), object(17)\n",
            "memory usage: 7.8+ MB\n"
          ]
        }
      ]
    },
    {
      "cell_type": "code",
      "source": [
        "data.describe()"
      ],
      "metadata": {
        "colab": {
          "base_uri": "https://localhost:8080/",
          "height": 300
        },
        "id": "o4F8BtIOWEba",
        "outputId": "5eb7a31b-6c45-41eb-8b06-d5535b98eb70"
      },
      "execution_count": null,
      "outputs": [
        {
          "output_type": "execute_result",
          "data": {
            "text/plain": [
              "             record\n",
              "count  56981.000000\n",
              "mean   28535.389832\n",
              "std    16479.971553\n",
              "min        1.000000\n",
              "25%    14263.000000\n",
              "50%    28522.000000\n",
              "75%    42804.000000\n",
              "max    57095.000000"
            ],
            "text/html": [
              "\n",
              "  <div id=\"df-44bbf752-80f3-4a5c-8f0e-e73bbfb864f9\">\n",
              "    <div class=\"colab-df-container\">\n",
              "      <div>\n",
              "<style scoped>\n",
              "    .dataframe tbody tr th:only-of-type {\n",
              "        vertical-align: middle;\n",
              "    }\n",
              "\n",
              "    .dataframe tbody tr th {\n",
              "        vertical-align: top;\n",
              "    }\n",
              "\n",
              "    .dataframe thead th {\n",
              "        text-align: right;\n",
              "    }\n",
              "</style>\n",
              "<table border=\"1\" class=\"dataframe\">\n",
              "  <thead>\n",
              "    <tr style=\"text-align: right;\">\n",
              "      <th></th>\n",
              "      <th>record</th>\n",
              "    </tr>\n",
              "  </thead>\n",
              "  <tbody>\n",
              "    <tr>\n",
              "      <th>count</th>\n",
              "      <td>56981.000000</td>\n",
              "    </tr>\n",
              "    <tr>\n",
              "      <th>mean</th>\n",
              "      <td>28535.389832</td>\n",
              "    </tr>\n",
              "    <tr>\n",
              "      <th>std</th>\n",
              "      <td>16479.971553</td>\n",
              "    </tr>\n",
              "    <tr>\n",
              "      <th>min</th>\n",
              "      <td>1.000000</td>\n",
              "    </tr>\n",
              "    <tr>\n",
              "      <th>25%</th>\n",
              "      <td>14263.000000</td>\n",
              "    </tr>\n",
              "    <tr>\n",
              "      <th>50%</th>\n",
              "      <td>28522.000000</td>\n",
              "    </tr>\n",
              "    <tr>\n",
              "      <th>75%</th>\n",
              "      <td>42804.000000</td>\n",
              "    </tr>\n",
              "    <tr>\n",
              "      <th>max</th>\n",
              "      <td>57095.000000</td>\n",
              "    </tr>\n",
              "  </tbody>\n",
              "</table>\n",
              "</div>\n",
              "      <button class=\"colab-df-convert\" onclick=\"convertToInteractive('df-44bbf752-80f3-4a5c-8f0e-e73bbfb864f9')\"\n",
              "              title=\"Convert this dataframe to an interactive table.\"\n",
              "              style=\"display:none;\">\n",
              "        \n",
              "  <svg xmlns=\"http://www.w3.org/2000/svg\" height=\"24px\"viewBox=\"0 0 24 24\"\n",
              "       width=\"24px\">\n",
              "    <path d=\"M0 0h24v24H0V0z\" fill=\"none\"/>\n",
              "    <path d=\"M18.56 5.44l.94 2.06.94-2.06 2.06-.94-2.06-.94-.94-2.06-.94 2.06-2.06.94zm-11 1L8.5 8.5l.94-2.06 2.06-.94-2.06-.94L8.5 2.5l-.94 2.06-2.06.94zm10 10l.94 2.06.94-2.06 2.06-.94-2.06-.94-.94-2.06-.94 2.06-2.06.94z\"/><path d=\"M17.41 7.96l-1.37-1.37c-.4-.4-.92-.59-1.43-.59-.52 0-1.04.2-1.43.59L10.3 9.45l-7.72 7.72c-.78.78-.78 2.05 0 2.83L4 21.41c.39.39.9.59 1.41.59.51 0 1.02-.2 1.41-.59l7.78-7.78 2.81-2.81c.8-.78.8-2.07 0-2.86zM5.41 20L4 18.59l7.72-7.72 1.47 1.35L5.41 20z\"/>\n",
              "  </svg>\n",
              "      </button>\n",
              "      \n",
              "  <style>\n",
              "    .colab-df-container {\n",
              "      display:flex;\n",
              "      flex-wrap:wrap;\n",
              "      gap: 12px;\n",
              "    }\n",
              "\n",
              "    .colab-df-convert {\n",
              "      background-color: #E8F0FE;\n",
              "      border: none;\n",
              "      border-radius: 50%;\n",
              "      cursor: pointer;\n",
              "      display: none;\n",
              "      fill: #1967D2;\n",
              "      height: 32px;\n",
              "      padding: 0 0 0 0;\n",
              "      width: 32px;\n",
              "    }\n",
              "\n",
              "    .colab-df-convert:hover {\n",
              "      background-color: #E2EBFA;\n",
              "      box-shadow: 0px 1px 2px rgba(60, 64, 67, 0.3), 0px 1px 3px 1px rgba(60, 64, 67, 0.15);\n",
              "      fill: #174EA6;\n",
              "    }\n",
              "\n",
              "    [theme=dark] .colab-df-convert {\n",
              "      background-color: #3B4455;\n",
              "      fill: #D2E3FC;\n",
              "    }\n",
              "\n",
              "    [theme=dark] .colab-df-convert:hover {\n",
              "      background-color: #434B5C;\n",
              "      box-shadow: 0px 1px 3px 1px rgba(0, 0, 0, 0.15);\n",
              "      filter: drop-shadow(0px 1px 2px rgba(0, 0, 0, 0.3));\n",
              "      fill: #FFFFFF;\n",
              "    }\n",
              "  </style>\n",
              "\n",
              "      <script>\n",
              "        const buttonEl =\n",
              "          document.querySelector('#df-44bbf752-80f3-4a5c-8f0e-e73bbfb864f9 button.colab-df-convert');\n",
              "        buttonEl.style.display =\n",
              "          google.colab.kernel.accessAllowed ? 'block' : 'none';\n",
              "\n",
              "        async function convertToInteractive(key) {\n",
              "          const element = document.querySelector('#df-44bbf752-80f3-4a5c-8f0e-e73bbfb864f9');\n",
              "          const dataTable =\n",
              "            await google.colab.kernel.invokeFunction('convertToInteractive',\n",
              "                                                     [key], {});\n",
              "          if (!dataTable) return;\n",
              "\n",
              "          const docLinkHtml = 'Like what you see? Visit the ' +\n",
              "            '<a target=\"_blank\" href=https://colab.research.google.com/notebooks/data_table.ipynb>data table notebook</a>'\n",
              "            + ' to learn more about interactive tables.';\n",
              "          element.innerHTML = '';\n",
              "          dataTable['output_type'] = 'display_data';\n",
              "          await google.colab.output.renderOutput(dataTable, element);\n",
              "          const docLink = document.createElement('div');\n",
              "          docLink.innerHTML = docLinkHtml;\n",
              "          element.appendChild(docLink);\n",
              "        }\n",
              "      </script>\n",
              "    </div>\n",
              "  </div>\n",
              "  "
            ]
          },
          "metadata": {},
          "execution_count": 8
        }
      ]
    },
    {
      "cell_type": "code",
      "source": [
        "data.replace(r'^\\s*$', np.nan, regex=True, inplace=True)"
      ],
      "metadata": {
        "id": "SGUodJGFWF0r"
      },
      "execution_count": null,
      "outputs": []
    },
    {
      "cell_type": "code",
      "source": [
        "data.isna().sum()"
      ],
      "metadata": {
        "colab": {
          "base_uri": "https://localhost:8080/"
        },
        "id": "0BjC7d1RzU9z",
        "outputId": "4f3f4a8a-ba4d-4015-cf63-be24074c67ff"
      },
      "execution_count": null,
      "outputs": [
        {
          "output_type": "execute_result",
          "data": {
            "text/plain": [
              "record                                                  0\n",
              "Bullied_on_school_property_in_past_12_months         1239\n",
              "Bullied_not_on_school_property_in_past_12_months      489\n",
              "Cyber_bullied_in_past_12_months                       571\n",
              "Custom_Age                                            108\n",
              "Sex                                                   536\n",
              "Physically_attacked                                   240\n",
              "Physical_fighting                                     268\n",
              "Felt_lonely                                           366\n",
              "Close_friends                                        1076\n",
              "Miss_school_no_permission                            1864\n",
              "Other_students_kind_and_helpful                      1559\n",
              "Parents_understand_problems                          2373\n",
              "Most_of_the_time_or_always_felt_lonely                366\n",
              "Missed_classes_or_school_without_permission          1864\n",
              "Were_underweight                                    20929\n",
              "Were_overweight                                     20929\n",
              "Were_obese                                          20929\n",
              "dtype: int64"
            ]
          },
          "metadata": {},
          "execution_count": 10
        }
      ]
    },
    {
      "cell_type": "code",
      "source": [
        "#encoding the values of text to numerical data"
      ],
      "metadata": {
        "id": "cBcDVjZ0XeCz"
      },
      "execution_count": null,
      "outputs": []
    },
    {
      "cell_type": "code",
      "source": [
        "le=LabelEncoder()\n",
        "data['Bullied_on_school_property_in_past_12_months']= le.fit_transform(data['Bullied_on_school_property_in_past_12_months'])\n",
        "data['Bullied_not_on_school_property_in_past_12_months']= le.fit_transform(data['Bullied_not_on_school_property_in_past_12_months'])\n",
        "data['Cyber_bullied_in_past_12_months']= le.fit_transform(data['Cyber_bullied_in_past_12_months'])\n",
        "data['Custom_Age']= le.fit_transform(data['Custom_Age'])\n",
        "data['Sex']= le.fit_transform(data['Sex'])\n",
        "data['Physically_attacked']= le.fit_transform(data['Physically_attacked'])\n",
        "data['Physical_fighting']= le.fit_transform(data['Physical_fighting'])\n",
        "data['Felt_lonely']= le.fit_transform(data['Felt_lonely'])\n",
        "data['Close_friends']= le.fit_transform(data['Close_friends'])\n",
        "data['Miss_school_no_permission']= le.fit_transform(data['Miss_school_no_permission'])\n",
        "data['Parents_understand_problems']= le.fit_transform(data['Parents_understand_problems'])\n",
        "data['Other_students_kind_and_helpful']= le.fit_transform(data['Other_students_kind_and_helpful'])\n",
        "data['Most_of_the_time_or_always_felt_lonely']= le.fit_transform(data['Most_of_the_time_or_always_felt_lonely'])\n",
        "data['Missed_classes_or_school_without_permission']= le.fit_transform(data['Missed_classes_or_school_without_permission'])"
      ],
      "metadata": {
        "id": "tiUVCkAgzrjt"
      },
      "execution_count": null,
      "outputs": []
    },
    {
      "cell_type": "code",
      "source": [
        "# declaration for making three prediction models "
      ],
      "metadata": {
        "id": "sbWhRvUeXl-k"
      },
      "execution_count": null,
      "outputs": []
    },
    {
      "cell_type": "code",
      "source": [
        "X = data.values[:,4:14]\n",
        "Y2 = data.Bullied_not_on_school_property_in_past_12_months\n",
        "Y1 = data.Bullied_on_school_property_in_past_12_months\n",
        "Y3 = data.Cyber_bullied_in_past_12_months\n"
      ],
      "metadata": {
        "id": "S4gmSwWP2ug6"
      },
      "execution_count": null,
      "outputs": []
    },
    {
      "cell_type": "code",
      "source": [
        "Y3"
      ],
      "metadata": {
        "colab": {
          "base_uri": "https://localhost:8080/"
        },
        "id": "dtiMtduRaybm",
        "outputId": "94f9e5fd-2f1e-4a0d-a67a-8dedd2c96c31"
      },
      "execution_count": null,
      "outputs": [
        {
          "output_type": "execute_result",
          "data": {
            "text/plain": [
              "0        2\n",
              "1        0\n",
              "2        0\n",
              "3        0\n",
              "4        0\n",
              "        ..\n",
              "56976    0\n",
              "56977    0\n",
              "56978    0\n",
              "56979    0\n",
              "56980    1\n",
              "Name: Cyber_bullied_in_past_12_months, Length: 56981, dtype: int64"
            ]
          },
          "metadata": {},
          "execution_count": 40
        }
      ]
    },
    {
      "cell_type": "code",
      "source": [
        "data.head()"
      ],
      "metadata": {
        "colab": {
          "base_uri": "https://localhost:8080/",
          "height": 270
        },
        "id": "bTgR3NaL1JSO",
        "outputId": "817a369c-0c61-4375-f514-8170e29e26a1"
      },
      "execution_count": null,
      "outputs": [
        {
          "output_type": "execute_result",
          "data": {
            "text/plain": [
              "   record  Bullied_on_school_property_in_past_12_months  \\\n",
              "0       1                                             1   \n",
              "1       2                                             0   \n",
              "2       3                                             0   \n",
              "3       4                                             0   \n",
              "4       5                                             0   \n",
              "\n",
              "   Bullied_not_on_school_property_in_past_12_months  \\\n",
              "0                                                 1   \n",
              "1                                                 0   \n",
              "2                                                 0   \n",
              "3                                                 0   \n",
              "4                                                 0   \n",
              "\n",
              "   Cyber_bullied_in_past_12_months  Custom_Age  Sex  Physically_attacked  \\\n",
              "0                                2           2    0                    0   \n",
              "1                                0           2    0                    0   \n",
              "2                                0           3    1                    0   \n",
              "3                                0           5    1                    0   \n",
              "4                                0           2    0                    0   \n",
              "\n",
              "   Physical_fighting  Felt_lonely  Close_friends  Miss_school_no_permission  \\\n",
              "0                  0            0              2                          2   \n",
              "1                  0            2              3                          0   \n",
              "2                  0            2              3                          0   \n",
              "3                  4            2              3                          0   \n",
              "4                  0            3              3                          0   \n",
              "\n",
              "   Other_students_kind_and_helpful  Parents_understand_problems  \\\n",
              "0                                2                            0   \n",
              "1                                4                            0   \n",
              "2                                4                            0   \n",
              "3                                4                            5   \n",
              "4                                1                            1   \n",
              "\n",
              "   Most_of_the_time_or_always_felt_lonely  \\\n",
              "0                                       1   \n",
              "1                                       0   \n",
              "2                                       0   \n",
              "3                                       0   \n",
              "4                                       0   \n",
              "\n",
              "   Missed_classes_or_school_without_permission Were_underweight  \\\n",
              "0                                            1              NaN   \n",
              "1                                            0              NaN   \n",
              "2                                            0               No   \n",
              "3                                            0               No   \n",
              "4                                            0              NaN   \n",
              "\n",
              "  Were_overweight Were_obese  \n",
              "0             NaN        NaN  \n",
              "1             NaN        NaN  \n",
              "2              No         No  \n",
              "3              No         No  \n",
              "4             NaN        NaN  "
            ],
            "text/html": [
              "\n",
              "  <div id=\"df-c3c28c95-9224-4a7d-bf7f-dcf4c6c9496d\">\n",
              "    <div class=\"colab-df-container\">\n",
              "      <div>\n",
              "<style scoped>\n",
              "    .dataframe tbody tr th:only-of-type {\n",
              "        vertical-align: middle;\n",
              "    }\n",
              "\n",
              "    .dataframe tbody tr th {\n",
              "        vertical-align: top;\n",
              "    }\n",
              "\n",
              "    .dataframe thead th {\n",
              "        text-align: right;\n",
              "    }\n",
              "</style>\n",
              "<table border=\"1\" class=\"dataframe\">\n",
              "  <thead>\n",
              "    <tr style=\"text-align: right;\">\n",
              "      <th></th>\n",
              "      <th>record</th>\n",
              "      <th>Bullied_on_school_property_in_past_12_months</th>\n",
              "      <th>Bullied_not_on_school_property_in_past_12_months</th>\n",
              "      <th>Cyber_bullied_in_past_12_months</th>\n",
              "      <th>Custom_Age</th>\n",
              "      <th>Sex</th>\n",
              "      <th>Physically_attacked</th>\n",
              "      <th>Physical_fighting</th>\n",
              "      <th>Felt_lonely</th>\n",
              "      <th>Close_friends</th>\n",
              "      <th>Miss_school_no_permission</th>\n",
              "      <th>Other_students_kind_and_helpful</th>\n",
              "      <th>Parents_understand_problems</th>\n",
              "      <th>Most_of_the_time_or_always_felt_lonely</th>\n",
              "      <th>Missed_classes_or_school_without_permission</th>\n",
              "      <th>Were_underweight</th>\n",
              "      <th>Were_overweight</th>\n",
              "      <th>Were_obese</th>\n",
              "    </tr>\n",
              "  </thead>\n",
              "  <tbody>\n",
              "    <tr>\n",
              "      <th>0</th>\n",
              "      <td>1</td>\n",
              "      <td>1</td>\n",
              "      <td>1</td>\n",
              "      <td>2</td>\n",
              "      <td>2</td>\n",
              "      <td>0</td>\n",
              "      <td>0</td>\n",
              "      <td>0</td>\n",
              "      <td>0</td>\n",
              "      <td>2</td>\n",
              "      <td>2</td>\n",
              "      <td>2</td>\n",
              "      <td>0</td>\n",
              "      <td>1</td>\n",
              "      <td>1</td>\n",
              "      <td>NaN</td>\n",
              "      <td>NaN</td>\n",
              "      <td>NaN</td>\n",
              "    </tr>\n",
              "    <tr>\n",
              "      <th>1</th>\n",
              "      <td>2</td>\n",
              "      <td>0</td>\n",
              "      <td>0</td>\n",
              "      <td>0</td>\n",
              "      <td>2</td>\n",
              "      <td>0</td>\n",
              "      <td>0</td>\n",
              "      <td>0</td>\n",
              "      <td>2</td>\n",
              "      <td>3</td>\n",
              "      <td>0</td>\n",
              "      <td>4</td>\n",
              "      <td>0</td>\n",
              "      <td>0</td>\n",
              "      <td>0</td>\n",
              "      <td>NaN</td>\n",
              "      <td>NaN</td>\n",
              "      <td>NaN</td>\n",
              "    </tr>\n",
              "    <tr>\n",
              "      <th>2</th>\n",
              "      <td>3</td>\n",
              "      <td>0</td>\n",
              "      <td>0</td>\n",
              "      <td>0</td>\n",
              "      <td>3</td>\n",
              "      <td>1</td>\n",
              "      <td>0</td>\n",
              "      <td>0</td>\n",
              "      <td>2</td>\n",
              "      <td>3</td>\n",
              "      <td>0</td>\n",
              "      <td>4</td>\n",
              "      <td>0</td>\n",
              "      <td>0</td>\n",
              "      <td>0</td>\n",
              "      <td>No</td>\n",
              "      <td>No</td>\n",
              "      <td>No</td>\n",
              "    </tr>\n",
              "    <tr>\n",
              "      <th>3</th>\n",
              "      <td>4</td>\n",
              "      <td>0</td>\n",
              "      <td>0</td>\n",
              "      <td>0</td>\n",
              "      <td>5</td>\n",
              "      <td>1</td>\n",
              "      <td>0</td>\n",
              "      <td>4</td>\n",
              "      <td>2</td>\n",
              "      <td>3</td>\n",
              "      <td>0</td>\n",
              "      <td>4</td>\n",
              "      <td>5</td>\n",
              "      <td>0</td>\n",
              "      <td>0</td>\n",
              "      <td>No</td>\n",
              "      <td>No</td>\n",
              "      <td>No</td>\n",
              "    </tr>\n",
              "    <tr>\n",
              "      <th>4</th>\n",
              "      <td>5</td>\n",
              "      <td>0</td>\n",
              "      <td>0</td>\n",
              "      <td>0</td>\n",
              "      <td>2</td>\n",
              "      <td>0</td>\n",
              "      <td>0</td>\n",
              "      <td>0</td>\n",
              "      <td>3</td>\n",
              "      <td>3</td>\n",
              "      <td>0</td>\n",
              "      <td>1</td>\n",
              "      <td>1</td>\n",
              "      <td>0</td>\n",
              "      <td>0</td>\n",
              "      <td>NaN</td>\n",
              "      <td>NaN</td>\n",
              "      <td>NaN</td>\n",
              "    </tr>\n",
              "  </tbody>\n",
              "</table>\n",
              "</div>\n",
              "      <button class=\"colab-df-convert\" onclick=\"convertToInteractive('df-c3c28c95-9224-4a7d-bf7f-dcf4c6c9496d')\"\n",
              "              title=\"Convert this dataframe to an interactive table.\"\n",
              "              style=\"display:none;\">\n",
              "        \n",
              "  <svg xmlns=\"http://www.w3.org/2000/svg\" height=\"24px\"viewBox=\"0 0 24 24\"\n",
              "       width=\"24px\">\n",
              "    <path d=\"M0 0h24v24H0V0z\" fill=\"none\"/>\n",
              "    <path d=\"M18.56 5.44l.94 2.06.94-2.06 2.06-.94-2.06-.94-.94-2.06-.94 2.06-2.06.94zm-11 1L8.5 8.5l.94-2.06 2.06-.94-2.06-.94L8.5 2.5l-.94 2.06-2.06.94zm10 10l.94 2.06.94-2.06 2.06-.94-2.06-.94-.94-2.06-.94 2.06-2.06.94z\"/><path d=\"M17.41 7.96l-1.37-1.37c-.4-.4-.92-.59-1.43-.59-.52 0-1.04.2-1.43.59L10.3 9.45l-7.72 7.72c-.78.78-.78 2.05 0 2.83L4 21.41c.39.39.9.59 1.41.59.51 0 1.02-.2 1.41-.59l7.78-7.78 2.81-2.81c.8-.78.8-2.07 0-2.86zM5.41 20L4 18.59l7.72-7.72 1.47 1.35L5.41 20z\"/>\n",
              "  </svg>\n",
              "      </button>\n",
              "      \n",
              "  <style>\n",
              "    .colab-df-container {\n",
              "      display:flex;\n",
              "      flex-wrap:wrap;\n",
              "      gap: 12px;\n",
              "    }\n",
              "\n",
              "    .colab-df-convert {\n",
              "      background-color: #E8F0FE;\n",
              "      border: none;\n",
              "      border-radius: 50%;\n",
              "      cursor: pointer;\n",
              "      display: none;\n",
              "      fill: #1967D2;\n",
              "      height: 32px;\n",
              "      padding: 0 0 0 0;\n",
              "      width: 32px;\n",
              "    }\n",
              "\n",
              "    .colab-df-convert:hover {\n",
              "      background-color: #E2EBFA;\n",
              "      box-shadow: 0px 1px 2px rgba(60, 64, 67, 0.3), 0px 1px 3px 1px rgba(60, 64, 67, 0.15);\n",
              "      fill: #174EA6;\n",
              "    }\n",
              "\n",
              "    [theme=dark] .colab-df-convert {\n",
              "      background-color: #3B4455;\n",
              "      fill: #D2E3FC;\n",
              "    }\n",
              "\n",
              "    [theme=dark] .colab-df-convert:hover {\n",
              "      background-color: #434B5C;\n",
              "      box-shadow: 0px 1px 3px 1px rgba(0, 0, 0, 0.15);\n",
              "      filter: drop-shadow(0px 1px 2px rgba(0, 0, 0, 0.3));\n",
              "      fill: #FFFFFF;\n",
              "    }\n",
              "  </style>\n",
              "\n",
              "      <script>\n",
              "        const buttonEl =\n",
              "          document.querySelector('#df-c3c28c95-9224-4a7d-bf7f-dcf4c6c9496d button.colab-df-convert');\n",
              "        buttonEl.style.display =\n",
              "          google.colab.kernel.accessAllowed ? 'block' : 'none';\n",
              "\n",
              "        async function convertToInteractive(key) {\n",
              "          const element = document.querySelector('#df-c3c28c95-9224-4a7d-bf7f-dcf4c6c9496d');\n",
              "          const dataTable =\n",
              "            await google.colab.kernel.invokeFunction('convertToInteractive',\n",
              "                                                     [key], {});\n",
              "          if (!dataTable) return;\n",
              "\n",
              "          const docLinkHtml = 'Like what you see? Visit the ' +\n",
              "            '<a target=\"_blank\" href=https://colab.research.google.com/notebooks/data_table.ipynb>data table notebook</a>'\n",
              "            + ' to learn more about interactive tables.';\n",
              "          element.innerHTML = '';\n",
              "          dataTable['output_type'] = 'display_data';\n",
              "          await google.colab.output.renderOutput(dataTable, element);\n",
              "          const docLink = document.createElement('div');\n",
              "          docLink.innerHTML = docLinkHtml;\n",
              "          element.appendChild(docLink);\n",
              "        }\n",
              "      </script>\n",
              "    </div>\n",
              "  </div>\n",
              "  "
            ]
          },
          "metadata": {},
          "execution_count": 16
        }
      ]
    },
    {
      "cell_type": "code",
      "source": [
        "c = data.corr()\n"
      ],
      "metadata": {
        "id": "Bbk5VdcB76Gb"
      },
      "execution_count": null,
      "outputs": []
    },
    {
      "cell_type": "code",
      "source": [
        "sns.heatmap(c)"
      ],
      "metadata": {
        "colab": {
          "base_uri": "https://localhost:8080/",
          "height": 798
        },
        "id": "myBkqg4d7FSi",
        "outputId": "dbc5acfc-6382-4cb2-bcbe-50502746d9e2"
      },
      "execution_count": null,
      "outputs": [
        {
          "output_type": "execute_result",
          "data": {
            "text/plain": [
              "<Axes: >"
            ]
          },
          "metadata": {},
          "execution_count": 18
        },
        {
          "output_type": "display_data",
          "data": {
            "text/plain": [
              "<Figure size 640x480 with 2 Axes>"
            ],
            "image/png": "[encoded data removed]"
          },
          "metadata": {}
        }
      ]
    },
    {
      "cell_type": "code",
      "source": [
        "#splitting all three w.r.t X/Y1, X/Y2 and X/Y3"
      ],
      "metadata": {
        "id": "5q8nWQA7XzOZ"
      },
      "execution_count": null,
      "outputs": []
    },
    {
      "cell_type": "code",
      "source": [
        "X_train,X_test,Y1_train,Y1_test = train_test_split(X,Y1,test_size = 0.4,random_state = 76)\n",
        "X_train,X_test,Y2_train,Y2_test = train_test_split(X,Y2,test_size = 0.4,random_state = 76)\n",
        "X_train,X_test,Y3_train,Y3_test = train_test_split(X,Y3,test_size = 0.4,random_state = 76)"
      ],
      "metadata": {
        "id": "RxWw00XtQl7R"
      },
      "execution_count": null,
      "outputs": []
    },
    {
      "cell_type": "code",
      "source": [
        "model1 = DecisionTreeClassifier()\n",
        "model1.fit(X_train,Y1_train)"
      ],
      "metadata": {
        "colab": {
          "base_uri": "https://localhost:8080/",
          "height": 74
        },
        "id": "fIsiS4waO4-g",
        "outputId": "f97a1e83-b2e6-4683-91d6-41a1b043c529"
      },
      "execution_count": null,
      "outputs": [
        {
          "output_type": "execute_result",
          "data": {
            "text/plain": [
              "DecisionTreeClassifier()"
            ],
            "text/html": [
              "<style>#sk-container-id-1 {color: black;background-color: white;}#sk-container-id-1 pre{padding: 0;}#sk-container-id-1 div.sk-toggleable {background-color: white;}#sk-container-id-1 label.sk-toggleable__label {cursor: pointer;display: block;width: 100%;margin-bottom: 0;padding: 0.3em;box-sizing: border-box;text-align: center;}#sk-container-id-1 label.sk-toggleable__label-arrow:before {content: \"▸\";float: left;margin-right: 0.25em;color: #696969;}#sk-container-id-1 label.sk-toggleable__label-arrow:hover:before {color: black;}#sk-container-id-1 div.sk-estimator:hover label.sk-toggleable__label-arrow:before {color: black;}#sk-container-id-1 div.sk-toggleable__content {max-height: 0;max-width: 0;overflow: hidden;text-align: left;background-color: #f0f8ff;}#sk-container-id-1 div.sk-toggleable__content pre {margin: 0.2em;color: black;border-radius: 0.25em;background-color: #f0f8ff;}#sk-container-id-1 input.sk-toggleable__control:checked~div.sk-toggleable__content {max-height: 200px;max-width: 100%;overflow: auto;}#sk-container-id-1 input.sk-toggleable__control:checked~label.sk-toggleable__label-arrow:before {content: \"▾\";}#sk-container-id-1 div.sk-estimator input.sk-toggleable__control:checked~label.sk-toggleable__label {background-color: #d4ebff;}#sk-container-id-1 div.sk-label input.sk-toggleable__control:checked~label.sk-toggleable__label {background-color: #d4ebff;}#sk-container-id-1 input.sk-hidden--visually {border: 0;clip: rect(1px 1px 1px 1px);clip: rect(1px, 1px, 1px, 1px);height: 1px;margin: -1px;overflow: hidden;padding: 0;position: absolute;width: 1px;}#sk-container-id-1 div.sk-estimator {font-family: monospace;background-color: #f0f8ff;border: 1px dotted black;border-radius: 0.25em;box-sizing: border-box;margin-bottom: 0.5em;}#sk-container-id-1 div.sk-estimator:hover {background-color: #d4ebff;}#sk-container-id-1 div.sk-parallel-item::after {content: \"\";width: 100%;border-bottom: 1px solid gray;flex-grow: 1;}#sk-container-id-1 div.sk-label:hover label.sk-toggleable__label {background-color: #d4ebff;}#sk-container-id-1 div.sk-serial::before {content: \"\";position: absolute;border-left: 1px solid gray;box-sizing: border-box;top: 0;bottom: 0;left: 50%;z-index: 0;}#sk-container-id-1 div.sk-serial {display: flex;flex-direction: column;align-items: center;background-color: white;padding-right: 0.2em;padding-left: 0.2em;position: relative;}#sk-container-id-1 div.sk-item {position: relative;z-index: 1;}#sk-container-id-1 div.sk-parallel {display: flex;align-items: stretch;justify-content: center;background-color: white;position: relative;}#sk-container-id-1 div.sk-item::before, #sk-container-id-1 div.sk-parallel-item::before {content: \"\";position: absolute;border-left: 1px solid gray;box-sizing: border-box;top: 0;bottom: 0;left: 50%;z-index: -1;}#sk-container-id-1 div.sk-parallel-item {display: flex;flex-direction: column;z-index: 1;position: relative;background-color: white;}#sk-container-id-1 div.sk-parallel-item:first-child::after {align-self: flex-end;width: 50%;}#sk-container-id-1 div.sk-parallel-item:last-child::after {align-self: flex-start;width: 50%;}#sk-container-id-1 div.sk-parallel-item:only-child::after {width: 0;}#sk-container-id-1 div.sk-dashed-wrapped {border: 1px dashed gray;margin: 0 0.4em 0.5em 0.4em;box-sizing: border-box;padding-bottom: 0.4em;background-color: white;}#sk-container-id-1 div.sk-label label {font-family: monospace;font-weight: bold;display: inline-block;line-height: 1.2em;}#sk-container-id-1 div.sk-label-container {text-align: center;}#sk-container-id-1 div.sk-container {/* jupyter's `normalize.less` sets `[hidden] { display: none; }` but bootstrap.min.css set `[hidden] { display: none !important; }` so we also need the `!important` here to be able to override the default hidden behavior on the sphinx rendered scikit-learn.org. See: https://github.com/scikit-learn/scikit-learn/issues/21755 */display: inline-block !important;position: relative;}#sk-container-id-1 div.sk-text-repr-fallback {display: none;}</style><div id=\"sk-container-id-1\" class=\"sk-top-container\"><div class=\"sk-text-repr-fallback\"><pre>DecisionTreeClassifier()</pre><b>In a Jupyter environment, please rerun this cell to show the HTML representation or trust the notebook. <br />On GitHub, the HTML representation is unable to render, please try loading this page with nbviewer.org.</b></div><div class=\"sk-container\" hidden><div class=\"sk-item\"><div class=\"sk-estimator sk-toggleable\"><input class=\"sk-toggleable__control sk-hidden--visually\" id=\"sk-estimator-id-1\" type=\"checkbox\" checked><label for=\"sk-estimator-id-1\" class=\"sk-toggleable__label sk-toggleable__label-arrow\">DecisionTreeClassifier</label><div class=\"sk-toggleable__content\"><pre>DecisionTreeClassifier()</pre></div></div></div></div></div>"
            ]
          },
          "metadata": {},
          "execution_count": 21
        }
      ]
    },
    {
      "cell_type": "code",
      "source": [
        "Y1_train_prediction = model1.predict(X_train)\n",
        "Acc_Y1_train = accuracy_score(Y1_train_prediction,Y1_train)\n",
        "print('Bullied_on_school_property_in_past_12_months prediction train Accuracy :',Acc_Y1_train*100)"
      ],
      "metadata": {
        "id": "w4e2mBrzTiBM",
        "colab": {
          "base_uri": "https://localhost:8080/"
        },
        "outputId": "51f48ea8-ad09-4838-cb36-72a4a2a9b66c"
      },
      "execution_count": null,
      "outputs": [
        {
          "output_type": "stream",
          "name": "stdout",
          "text": [
            "Bullied_on_school_property_in_past_12_months prediction train Accuracy : 89.8122148122148\n"
          ]
        }
      ]
    },
    {
      "cell_type": "code",
      "source": [
        "Y1_test_prediction = model1.predict(X_test)\n",
        "Acc_Y1_test = accuracy_score(Y1_test_prediction,Y1_test)\n",
        "print('Bullied_on_school_property_in_past_12_months Prediction test Accuracy: ',Acc_Y1_test*100)"
      ],
      "metadata": {
        "id": "riaStAP0UUaA",
        "colab": {
          "base_uri": "https://localhost:8080/"
        },
        "outputId": "b8ae0deb-bfa2-4dd2-a0f2-7fdfff7a2945"
      },
      "execution_count": null,
      "outputs": [
        {
          "output_type": "stream",
          "name": "stdout",
          "text": [
            "Bullied_on_school_property_in_past_12_months Prediction test Accuracy:  71.54389505549949\n"
          ]
        }
      ]
    },
    {
      "cell_type": "code",
      "source": [
        "model2 = DecisionTreeClassifier()\n",
        "model2.fit(X_train,Y2_train)"
      ],
      "metadata": {
        "id": "xJRsW1h4WXMB",
        "colab": {
          "base_uri": "https://localhost:8080/",
          "height": 74
        },
        "outputId": "e8f43314-2a3a-41b3-ae4a-d9db72b75b09"
      },
      "execution_count": null,
      "outputs": [
        {
          "output_type": "execute_result",
          "data": {
            "text/plain": [
              "DecisionTreeClassifier()"
            ],
            "text/html": [
              "<style>#sk-container-id-2 {color: black;background-color: white;}#sk-container-id-2 pre{padding: 0;}#sk-container-id-2 div.sk-toggleable {background-color: white;}#sk-container-id-2 label.sk-toggleable__label {cursor: pointer;display: block;width: 100%;margin-bottom: 0;padding: 0.3em;box-sizing: border-box;text-align: center;}#sk-container-id-2 label.sk-toggleable__label-arrow:before {content: \"▸\";float: left;margin-right: 0.25em;color: #696969;}#sk-container-id-2 label.sk-toggleable__label-arrow:hover:before {color: black;}#sk-container-id-2 div.sk-estimator:hover label.sk-toggleable__label-arrow:before {color: black;}#sk-container-id-2 div.sk-toggleable__content {max-height: 0;max-width: 0;overflow: hidden;text-align: left;background-color: #f0f8ff;}#sk-container-id-2 div.sk-toggleable__content pre {margin: 0.2em;color: black;border-radius: 0.25em;background-color: #f0f8ff;}#sk-container-id-2 input.sk-toggleable__control:checked~div.sk-toggleable__content {max-height: 200px;max-width: 100%;overflow: auto;}#sk-container-id-2 input.sk-toggleable__control:checked~label.sk-toggleable__label-arrow:before {content: \"▾\";}#sk-container-id-2 div.sk-estimator input.sk-toggleable__control:checked~label.sk-toggleable__label {background-color: #d4ebff;}#sk-container-id-2 div.sk-label input.sk-toggleable__control:checked~label.sk-toggleable__label {background-color: #d4ebff;}#sk-container-id-2 input.sk-hidden--visually {border: 0;clip: rect(1px 1px 1px 1px);clip: rect(1px, 1px, 1px, 1px);height: 1px;margin: -1px;overflow: hidden;padding: 0;position: absolute;width: 1px;}#sk-container-id-2 div.sk-estimator {font-family: monospace;background-color: #f0f8ff;border: 1px dotted black;border-radius: 0.25em;box-sizing: border-box;margin-bottom: 0.5em;}#sk-container-id-2 div.sk-estimator:hover {background-color: #d4ebff;}#sk-container-id-2 div.sk-parallel-item::after {content: \"\";width: 100%;border-bottom: 1px solid gray;flex-grow: 1;}#sk-container-id-2 div.sk-label:hover label.sk-toggleable__label {background-color: #d4ebff;}#sk-container-id-2 div.sk-serial::before {content: \"\";position: absolute;border-left: 1px solid gray;box-sizing: border-box;top: 0;bottom: 0;left: 50%;z-index: 0;}#sk-container-id-2 div.sk-serial {display: flex;flex-direction: column;align-items: center;background-color: white;padding-right: 0.2em;padding-left: 0.2em;position: relative;}#sk-container-id-2 div.sk-item {position: relative;z-index: 1;}#sk-container-id-2 div.sk-parallel {display: flex;align-items: stretch;justify-content: center;background-color: white;position: relative;}#sk-container-id-2 div.sk-item::before, #sk-container-id-2 div.sk-parallel-item::before {content: \"\";position: absolute;border-left: 1px solid gray;box-sizing: border-box;top: 0;bottom: 0;left: 50%;z-index: -1;}#sk-container-id-2 div.sk-parallel-item {display: flex;flex-direction: column;z-index: 1;position: relative;background-color: white;}#sk-container-id-2 div.sk-parallel-item:first-child::after {align-self: flex-end;width: 50%;}#sk-container-id-2 div.sk-parallel-item:last-child::after {align-self: flex-start;width: 50%;}#sk-container-id-2 div.sk-parallel-item:only-child::after {width: 0;}#sk-container-id-2 div.sk-dashed-wrapped {border: 1px dashed gray;margin: 0 0.4em 0.5em 0.4em;box-sizing: border-box;padding-bottom: 0.4em;background-color: white;}#sk-container-id-2 div.sk-label label {font-family: monospace;font-weight: bold;display: inline-block;line-height: 1.2em;}#sk-container-id-2 div.sk-label-container {text-align: center;}#sk-container-id-2 div.sk-container {/* jupyter's `normalize.less` sets `[hidden] { display: none; }` but bootstrap.min.css set `[hidden] { display: none !important; }` so we also need the `!important` here to be able to override the default hidden behavior on the sphinx rendered scikit-learn.org. See: https://github.com/scikit-learn/scikit-learn/issues/21755 */display: inline-block !important;position: relative;}#sk-container-id-2 div.sk-text-repr-fallback {display: none;}</style><div id=\"sk-container-id-2\" class=\"sk-top-container\"><div class=\"sk-text-repr-fallback\"><pre>DecisionTreeClassifier()</pre><b>In a Jupyter environment, please rerun this cell to show the HTML representation or trust the notebook. <br />On GitHub, the HTML representation is unable to render, please try loading this page with nbviewer.org.</b></div><div class=\"sk-container\" hidden><div class=\"sk-item\"><div class=\"sk-estimator sk-toggleable\"><input class=\"sk-toggleable__control sk-hidden--visually\" id=\"sk-estimator-id-2\" type=\"checkbox\" checked><label for=\"sk-estimator-id-2\" class=\"sk-toggleable__label sk-toggleable__label-arrow\">DecisionTreeClassifier</label><div class=\"sk-toggleable__content\"><pre>DecisionTreeClassifier()</pre></div></div></div></div></div>"
            ]
          },
          "metadata": {},
          "execution_count": 24
        }
      ]
    },
    {
      "cell_type": "code",
      "source": [
        "Y2_train_prediction = model2.predict(X_train)\n",
        "Acc_Y2_train = accuracy_score(Y2_train_prediction,Y2_train)\n",
        "print('Bullied_not_on_school_property_in_past_12_months prediction train Accuracy :',Acc_Y2_train*100)"
      ],
      "metadata": {
        "id": "mU7FhGHaVfM-",
        "colab": {
          "base_uri": "https://localhost:8080/"
        },
        "outputId": "6cf98a61-b244-45b6-8889-68f5591adbc6"
      },
      "execution_count": null,
      "outputs": [
        {
          "output_type": "stream",
          "name": "stdout",
          "text": [
            "Bullied_not_on_school_property_in_past_12_months prediction train Accuracy : 90.66339066339066\n"
          ]
        }
      ]
    },
    {
      "cell_type": "code",
      "source": [
        "Y2_test_prediction = model2.predict(X_test)\n",
        "Acc_Y2_test = accuracy_score(Y2_test_prediction,Y2_test)\n",
        "print('Bullied_not_on_school_property_in_past_12_months Prediction test Accuracy: ',Acc_Y2_test*100)"
      ],
      "metadata": {
        "id": "WvwuGCDSVhId",
        "colab": {
          "base_uri": "https://localhost:8080/"
        },
        "outputId": "6b21b067-3f8d-4eeb-bcf7-2fde8efe96f1"
      },
      "execution_count": null,
      "outputs": [
        {
          "output_type": "stream",
          "name": "stdout",
          "text": [
            "Bullied_not_on_school_property_in_past_12_months Prediction test Accuracy:  73.0838415302944\n"
          ]
        }
      ]
    },
    {
      "cell_type": "code",
      "source": [
        "model3 = DecisionTreeClassifier()"
      ],
      "metadata": {
        "id": "IfetFjKPRd0A"
      },
      "execution_count": null,
      "outputs": []
    },
    {
      "cell_type": "code",
      "source": [
        "model3.fit(X_train,Y3_train)"
      ],
      "metadata": {
        "colab": {
          "base_uri": "https://localhost:8080/",
          "height": 74
        },
        "id": "sS4z3ywfUZoK",
        "outputId": "51e84f29-4d70-4239-85f3-287f9306a7d9"
      },
      "execution_count": null,
      "outputs": [
        {
          "output_type": "execute_result",
          "data": {
            "text/plain": [
              "DecisionTreeClassifier()"
            ],
            "text/html": [
              "<style>#sk-container-id-3 {color: black;background-color: white;}#sk-container-id-3 pre{padding: 0;}#sk-container-id-3 div.sk-toggleable {background-color: white;}#sk-container-id-3 label.sk-toggleable__label {cursor: pointer;display: block;width: 100%;margin-bottom: 0;padding: 0.3em;box-sizing: border-box;text-align: center;}#sk-container-id-3 label.sk-toggleable__label-arrow:before {content: \"▸\";float: left;margin-right: 0.25em;color: #696969;}#sk-container-id-3 label.sk-toggleable__label-arrow:hover:before {color: black;}#sk-container-id-3 div.sk-estimator:hover label.sk-toggleable__label-arrow:before {color: black;}#sk-container-id-3 div.sk-toggleable__content {max-height: 0;max-width: 0;overflow: hidden;text-align: left;background-color: #f0f8ff;}#sk-container-id-3 div.sk-toggleable__content pre {margin: 0.2em;color: black;border-radius: 0.25em;background-color: #f0f8ff;}#sk-container-id-3 input.sk-toggleable__control:checked~div.sk-toggleable__content {max-height: 200px;max-width: 100%;overflow: auto;}#sk-container-id-3 input.sk-toggleable__control:checked~label.sk-toggleable__label-arrow:before {content: \"▾\";}#sk-container-id-3 div.sk-estimator input.sk-toggleable__control:checked~label.sk-toggleable__label {background-color: #d4ebff;}#sk-container-id-3 div.sk-label input.sk-toggleable__control:checked~label.sk-toggleable__label {background-color: #d4ebff;}#sk-container-id-3 input.sk-hidden--visually {border: 0;clip: rect(1px 1px 1px 1px);clip: rect(1px, 1px, 1px, 1px);height: 1px;margin: -1px;overflow: hidden;padding: 0;position: absolute;width: 1px;}#sk-container-id-3 div.sk-estimator {font-family: monospace;background-color: #f0f8ff;border: 1px dotted black;border-radius: 0.25em;box-sizing: border-box;margin-bottom: 0.5em;}#sk-container-id-3 div.sk-estimator:hover {background-color: #d4ebff;}#sk-container-id-3 div.sk-parallel-item::after {content: \"\";width: 100%;border-bottom: 1px solid gray;flex-grow: 1;}#sk-container-id-3 div.sk-label:hover label.sk-toggleable__label {background-color: #d4ebff;}#sk-container-id-3 div.sk-serial::before {content: \"\";position: absolute;border-left: 1px solid gray;box-sizing: border-box;top: 0;bottom: 0;left: 50%;z-index: 0;}#sk-container-id-3 div.sk-serial {display: flex;flex-direction: column;align-items: center;background-color: white;padding-right: 0.2em;padding-left: 0.2em;position: relative;}#sk-container-id-3 div.sk-item {position: relative;z-index: 1;}#sk-container-id-3 div.sk-parallel {display: flex;align-items: stretch;justify-content: center;background-color: white;position: relative;}#sk-container-id-3 div.sk-item::before, #sk-container-id-3 div.sk-parallel-item::before {content: \"\";position: absolute;border-left: 1px solid gray;box-sizing: border-box;top: 0;bottom: 0;left: 50%;z-index: -1;}#sk-container-id-3 div.sk-parallel-item {display: flex;flex-direction: column;z-index: 1;position: relative;background-color: white;}#sk-container-id-3 div.sk-parallel-item:first-child::after {align-self: flex-end;width: 50%;}#sk-container-id-3 div.sk-parallel-item:last-child::after {align-self: flex-start;width: 50%;}#sk-container-id-3 div.sk-parallel-item:only-child::after {width: 0;}#sk-container-id-3 div.sk-dashed-wrapped {border: 1px dashed gray;margin: 0 0.4em 0.5em 0.4em;box-sizing: border-box;padding-bottom: 0.4em;background-color: white;}#sk-container-id-3 div.sk-label label {font-family: monospace;font-weight: bold;display: inline-block;line-height: 1.2em;}#sk-container-id-3 div.sk-label-container {text-align: center;}#sk-container-id-3 div.sk-container {/* jupyter's `normalize.less` sets `[hidden] { display: none; }` but bootstrap.min.css set `[hidden] { display: none !important; }` so we also need the `!important` here to be able to override the default hidden behavior on the sphinx rendered scikit-learn.org. See: https://github.com/scikit-learn/scikit-learn/issues/21755 */display: inline-block !important;position: relative;}#sk-container-id-3 div.sk-text-repr-fallback {display: none;}</style><div id=\"sk-container-id-3\" class=\"sk-top-container\"><div class=\"sk-text-repr-fallback\"><pre>DecisionTreeClassifier()</pre><b>In a Jupyter environment, please rerun this cell to show the HTML representation or trust the notebook. <br />On GitHub, the HTML representation is unable to render, please try loading this page with nbviewer.org.</b></div><div class=\"sk-container\" hidden><div class=\"sk-item\"><div class=\"sk-estimator sk-toggleable\"><input class=\"sk-toggleable__control sk-hidden--visually\" id=\"sk-estimator-id-3\" type=\"checkbox\" checked><label for=\"sk-estimator-id-3\" class=\"sk-toggleable__label sk-toggleable__label-arrow\">DecisionTreeClassifier</label><div class=\"sk-toggleable__content\"><pre>DecisionTreeClassifier()</pre></div></div></div></div></div>"
            ]
          },
          "metadata": {},
          "execution_count": 28
        }
      ]
    },
    {
      "cell_type": "code",
      "source": [
        "Y3_train"
      ],
      "metadata": {
        "colab": {
          "base_uri": "https://localhost:8080/"
        },
        "id": "d5h_3qaxZOfe",
        "outputId": "9a355c96-8456-4bc5-d568-e7438a88b25a"
      },
      "execution_count": null,
      "outputs": [
        {
          "output_type": "execute_result",
          "data": {
            "text/plain": [
              "14148    1\n",
              "41275    1\n",
              "14931    1\n",
              "33508    1\n",
              "45971    0\n",
              "        ..\n",
              "22810    0\n",
              "39296    1\n",
              "9607     0\n",
              "12279    0\n",
              "35489    0\n",
              "Name: Cyber_bullied_in_past_12_months, Length: 34188, dtype: int64"
            ]
          },
          "metadata": {},
          "execution_count": 29
        }
      ]
    },
    {
      "cell_type": "code",
      "source": [
        "print(Y1_train.shape)"
      ],
      "metadata": {
        "colab": {
          "base_uri": "https://localhost:8080/"
        },
        "id": "pcrUTGtCYNEp",
        "outputId": "e6c901fd-35df-4f50-a1ba-6b75cb1e5182"
      },
      "execution_count": null,
      "outputs": [
        {
          "output_type": "stream",
          "name": "stdout",
          "text": [
            "(34188,)\n"
          ]
        }
      ]
    },
    {
      "cell_type": "code",
      "source": [
        "print(Y1_train)"
      ],
      "metadata": {
        "colab": {
          "base_uri": "https://localhost:8080/"
        },
        "id": "kJ6hb5vbUqEo",
        "outputId": "3adaee1d-7f7b-4607-8d01-f5a4a6cd1976"
      },
      "execution_count": null,
      "outputs": [
        {
          "output_type": "stream",
          "name": "stdout",
          "text": [
            "14148    1\n",
            "41275    0\n",
            "14931    0\n",
            "33508    0\n",
            "45971    0\n",
            "        ..\n",
            "22810    1\n",
            "39296    1\n",
            "9607     0\n",
            "12279    0\n",
            "35489    0\n",
            "Name: Bullied_on_school_property_in_past_12_months, Length: 34188, dtype: int64\n"
          ]
        }
      ]
    },
    {
      "cell_type": "code",
      "source": [
        "Y3_train.info()"
      ],
      "metadata": {
        "colab": {
          "base_uri": "https://localhost:8080/"
        },
        "id": "nfOc5JH2VwC4",
        "outputId": "fd53d33f-0dca-467c-bc09-ec48a9d84f69"
      },
      "execution_count": null,
      "outputs": [
        {
          "output_type": "stream",
          "name": "stdout",
          "text": [
            "<class 'pandas.core.series.Series'>\n",
            "Int64Index: 34188 entries, 14148 to 35489\n",
            "Series name: Cyber_bullied_in_past_12_months\n",
            "Non-Null Count  Dtype\n",
            "--------------  -----\n",
            "34188 non-null  int64\n",
            "dtypes: int64(1)\n",
            "memory usage: 534.2 KB\n"
          ]
        }
      ]
    },
    {
      "cell_type": "code",
      "source": [
        "Y3_train_prediction = model3.predict(X_train)\n",
        "Acc_Y3_train = accuracy_score(Y3_train_prediction,Y3_train)\n",
        "print('Cyber_bullied_in_past_12_months prediction train Accuracy :',Acc_Y3_train*100)"
      ],
      "metadata": {
        "id": "FLsbi7ZbVxdI",
        "colab": {
          "base_uri": "https://localhost:8080/"
        },
        "outputId": "1a566b3c-580c-44c6-a8d1-eaad1a727061"
      },
      "execution_count": null,
      "outputs": [
        {
          "output_type": "stream",
          "name": "stdout",
          "text": [
            "Cyber_bullied_in_past_12_months prediction train Accuracy : 90.35334035334034\n"
          ]
        }
      ]
    },
    {
      "cell_type": "code",
      "source": [
        "Y3_test_prediction = model3.predict(X_test)\n",
        "Acc_Y3_test = accuracy_score(Y3_test_prediction,Y3_test)\n",
        "print('Cyber_bullied_in_past_12_months Prediction test Accuracy: ',Acc_Y3_test*100)"
      ],
      "metadata": {
        "id": "_AOrWux6V6UY",
        "colab": {
          "base_uri": "https://localhost:8080/"
        },
        "outputId": "a98b924b-c96e-43bf-e318-080512ee7db7"
      },
      "execution_count": null,
      "outputs": [
        {
          "output_type": "stream",
          "name": "stdout",
          "text": [
            "Cyber_bullied_in_past_12_months Prediction test Accuracy:  72.50910367218005\n"
          ]
        }
      ]
    },
    {
      "cell_type": "code",
      "source": [
        "model3.predict([[0,0,0,0,2,2,2,0,1,1]])"
      ],
      "metadata": {
        "colab": {
          "base_uri": "https://localhost:8080/"
        },
        "id": "Zz6Bb5i3baps",
        "outputId": "7811f69e-a266-4afd-d60a-22df744990f1"
      },
      "execution_count": null,
      "outputs": [
        {
          "output_type": "execute_result",
          "data": {
            "text/plain": [
              "array([2])"
            ]
          },
          "metadata": {},
          "execution_count": 49
        }
      ]
    },
    {
      "cell_type": "code",
      "source": [
        "tr=pd.DataFrame(Y1_test_prediction)"
      ],
      "metadata": {
        "id": "mj8PtufJbl08"
      },
      "execution_count": null,
      "outputs": []
    },
    {
      "cell_type": "code",
      "source": [
        "tr.unique()"
      ],
      "metadata": {
        "colab": {
          "base_uri": "https://localhost:8080/",
          "height": 287
        },
        "id": "H5K2Y1n8hXrq",
        "outputId": "69b56108-0002-42b0-dc93-f1ece44cc46d"
      },
      "execution_count": null,
      "outputs": [
        {
          "output_type": "error",
          "ename": "AttributeError",
          "evalue": "ignored",
          "traceback": [
            "\u001b[0;31m---------------------------------------------------------------------------\u001b[0m",
            "\u001b[0;31mAttributeError\u001b[0m                            Traceback (most recent call last)",
            "\u001b[0;32m<ipython-input-68-dd6a750e3e68>\u001b[0m in \u001b[0;36m<cell line: 1>\u001b[0;34m()\u001b[0m\n\u001b[0;32m----> 1\u001b[0;31m \u001b[0mtr\u001b[0m\u001b[0;34m.\u001b[0m\u001b[0munique\u001b[0m\u001b[0;34m(\u001b[0m\u001b[0;34m)\u001b[0m\u001b[0;34m\u001b[0m\u001b[0;34m\u001b[0m\u001b[0m\n\u001b[0m",
            "\u001b[0;32m/usr/local/lib/python3.9/dist-packages/pandas/core/generic.py\u001b[0m in \u001b[0;36m__getattr__\u001b[0;34m(self, name)\u001b[0m\n\u001b[1;32m   5573\u001b[0m         ):\n\u001b[1;32m   5574\u001b[0m             \u001b[0;32mreturn\u001b[0m \u001b[0mself\u001b[0m\u001b[0;34m[\u001b[0m\u001b[0mname\u001b[0m\u001b[0;34m]\u001b[0m\u001b[0;34m\u001b[0m\u001b[0;34m\u001b[0m\u001b[0m\n\u001b[0;32m-> 5575\u001b[0;31m         \u001b[0;32mreturn\u001b[0m \u001b[0mobject\u001b[0m\u001b[0;34m.\u001b[0m\u001b[0m__getattribute__\u001b[0m\u001b[0;34m(\u001b[0m\u001b[0mself\u001b[0m\u001b[0;34m,\u001b[0m \u001b[0mname\u001b[0m\u001b[0;34m)\u001b[0m\u001b[0;34m\u001b[0m\u001b[0;34m\u001b[0m\u001b[0m\n\u001b[0m\u001b[1;32m   5576\u001b[0m \u001b[0;34m\u001b[0m\u001b[0m\n\u001b[1;32m   5577\u001b[0m     \u001b[0;32mdef\u001b[0m \u001b[0m__setattr__\u001b[0m\u001b[0;34m(\u001b[0m\u001b[0mself\u001b[0m\u001b[0;34m,\u001b[0m \u001b[0mname\u001b[0m\u001b[0;34m:\u001b[0m \u001b[0mstr\u001b[0m\u001b[0;34m,\u001b[0m \u001b[0mvalue\u001b[0m\u001b[0;34m)\u001b[0m \u001b[0;34m->\u001b[0m \u001b[0;32mNone\u001b[0m\u001b[0;34m:\u001b[0m\u001b[0;34m\u001b[0m\u001b[0;34m\u001b[0m\u001b[0m\n",
            "\u001b[0;31mAttributeError\u001b[0m: 'DataFrame' object has no attribute 'unique'"
          ]
        }
      ]
    },
    {
      "cell_type": "code",
      "source": [
        "X = ['Group A']\n",
        "\n",
        "  \n",
        "X_axis = np.arange(len(X))\n",
        "  \n",
        "plt.bar(X_axis - 0.2,Y1_test, 0.4, label = 'Real')\n",
        "plt.bar(X_axis + 0.2, Y1_test_prediction, 0.4, label = 'Predicted')\n",
        "  \n",
        "plt.xticks(X_axis, X)\n",
        "plt.xlabel(\"Groups\")\n",
        "plt.ylabel(\"Number of Students\")\n",
        "plt.title(\"Number of Students in each group\")\n",
        "plt.legend()\n",
        "plt.show()"
      ],
      "metadata": {
        "colab": {
          "base_uri": "https://localhost:8080/",
          "height": 472
        },
        "id": "TX559MK0dxap",
        "outputId": "f40cde32-dd21-4e83-978e-1fe045172837"
      },
      "execution_count": null,
      "outputs": [
        {
          "output_type": "display_data",
          "data": {
            "text/plain": [
              "<Figure size 640x480 with 1 Axes>"
            ],
            "image/png": "[encoded data removed]"
          },
          "metadata": {}
        }
      ]
    },
    {
      "cell_type": "code",
      "source": [
        "s = Y1_test[Y1_test=0]"
      ],
      "metadata": {
        "id": "trKgRQdUe4Nb"
      },
      "execution_count": null,
      "outputs": []
    }
  ]
}