{
  "nbformat": 4,
  "nbformat_minor": 0,
  "metadata": {
    "colab": {
      "provenance": []
    },
    "kernelspec": {
      "name": "python3",
      "display_name": "Python 3"
    },
    "language_info": {
      "name": "python"
    }
  },
  "cells": [
    {
      "cell_type": "code",
      "execution_count": 97,
      "metadata": {
        "id": "8A-xg9zYTST0"
      },
      "outputs": [],
      "source": [
        "import numpy as np\n",
        "import pandas as pd\n",
        "import seaborn as sns\n",
        "import matplotlib.pyplot as plt\n",
        "from sklearn.model_selection import train_test_split\n",
        "from sklearn.metrics import accuracy_score\n",
        "from sklearn.tree import DecisionTreeClassifier\n",
        "from sklearn import tree\n",
        "# to encode label unique values into integer\n",
        "from sklearn.preprocessing import LabelEncoder"
      ]
    },
    {
      "cell_type": "code",
      "source": [
        "#importing the dataset"
      ],
      "metadata": {
        "id": "snOzxoUAXasp"
      },
      "execution_count": 98,
      "outputs": []
    },
    {
      "cell_type": "code",
      "source": [
        "data = pd.read_csv('/content/Bullying_2018.csv',sep = \";\")\n",
        "data.head(131)"
      ],
      "metadata": {
        "colab": {
          "base_uri": "https://localhost:8080/",
          "height": 505
        },
        "id": "WJxQQYntUies",
        "outputId": "f614bab3-70fa-414f-a29b-32e4dd146369"
      },
      "execution_count": 99,
      "outputs": [
        {
          "output_type": "execute_result",
          "data": {
            "text/plain": [
              "     record Bullied_on_school_property_in_past_12_months  \\\n",
              "0         1                                          Yes   \n",
              "1         2                                           No   \n",
              "2         3                                           No   \n",
              "3         4                                           No   \n",
              "4         5                                           No   \n",
              "..      ...                                          ...   \n",
              "126     127                                           No   \n",
              "127     128                                           No   \n",
              "128     129                                          Yes   \n",
              "129     130                                           No   \n",
              "130     131                                                \n",
              "\n",
              "    Bullied_not_on_school_property_in_past_12_months  \\\n",
              "0                                                Yes   \n",
              "1                                                 No   \n",
              "2                                                 No   \n",
              "3                                                 No   \n",
              "4                                                 No   \n",
              "..                                               ...   \n",
              "126                                               No   \n",
              "127                                               No   \n",
              "128                                              Yes   \n",
              "129                                               No   \n",
              "130                                              Yes   \n",
              "\n",
              "    Cyber_bullied_in_past_12_months    Custom_Age     Sex Physically_attacked  \\\n",
              "0                                    13 years old  Female             0 times   \n",
              "1                                No  13 years old  Female             0 times   \n",
              "2                                No  14 years old    Male             0 times   \n",
              "3                                No  16 years old    Male             0 times   \n",
              "4                                No  13 years old  Female             0 times   \n",
              "..                              ...           ...     ...                 ...   \n",
              "126                              No  13 years old    Male             0 times   \n",
              "127                              No  13 years old  Female        4 or 5 times   \n",
              "128                             Yes  14 years old  Female      10 or 11 times   \n",
              "129                              No  13 years old    Male             0 times   \n",
              "130                              No  13 years old  Female             0 times   \n",
              "\n",
              "    Physical_fighting       Felt_lonely Close_friends  \\\n",
              "0             0 times            Always             2   \n",
              "1             0 times             Never     3 or more   \n",
              "2             0 times             Never     3 or more   \n",
              "3        2 or 3 times             Never     3 or more   \n",
              "4             0 times            Rarely     3 or more   \n",
              "..                ...               ...           ...   \n",
              "126           0 times  Most of the time             0   \n",
              "127      4 or 5 times            Rarely     3 or more   \n",
              "128            1 time            Always     3 or more   \n",
              "129      4 or 5 times             Never     3 or more   \n",
              "130           0 times            Rarely     3 or more   \n",
              "\n",
              "    Miss_school_no_permission Other_students_kind_and_helpful  \\\n",
              "0             10 or more days                           Never   \n",
              "1                      0 days                       Sometimes   \n",
              "2                      0 days                       Sometimes   \n",
              "3                      0 days                       Sometimes   \n",
              "4                      0 days                Most of the time   \n",
              "..                        ...                             ...   \n",
              "126                    0 days                       Sometimes   \n",
              "127                    0 days                       Sometimes   \n",
              "128                    0 days                       Sometimes   \n",
              "129               1 or 2 days                          Rarely   \n",
              "130                    0 days                Most of the time   \n",
              "\n",
              "    Parents_understand_problems Most_of_the_time_or_always_felt_lonely  \\\n",
              "0                        Always                                    Yes   \n",
              "1                        Always                                     No   \n",
              "2                        Always                                     No   \n",
              "3                                                                   No   \n",
              "4              Most of the time                                     No   \n",
              "..                          ...                                    ...   \n",
              "126                      Rarely                                    Yes   \n",
              "127                   Sometimes                                     No   \n",
              "128            Most of the time                                    Yes   \n",
              "129                   Sometimes                                     No   \n",
              "130                      Always                                     No   \n",
              "\n",
              "    Missed_classes_or_school_without_permission Were_underweight  \\\n",
              "0                                           Yes                    \n",
              "1                                            No                    \n",
              "2                                            No               No   \n",
              "3                                            No               No   \n",
              "4                                            No                    \n",
              "..                                          ...              ...   \n",
              "126                                          No                    \n",
              "127                                          No                    \n",
              "128                                          No               No   \n",
              "129                                         Yes               No   \n",
              "130                                          No               No   \n",
              "\n",
              "    Were_overweight Were_obese  \n",
              "0                               \n",
              "1                               \n",
              "2                No         No  \n",
              "3                No         No  \n",
              "4                               \n",
              "..              ...        ...  \n",
              "126                             \n",
              "127                             \n",
              "128              No         No  \n",
              "129             Yes         No  \n",
              "130              No         No  \n",
              "\n",
              "[131 rows x 18 columns]"
            ],
            "text/html": [
              "\n",
              "  <div id=\"df-49ee9bf5-a770-46a5-8825-efceae8908ac\">\n",
              "    <div class=\"colab-df-container\">\n",
              "      <div>\n",
              "<style scoped>\n",
              "    .dataframe tbody tr th:only-of-type {\n",
              "        vertical-align: middle;\n",
              "    }\n",
              "\n",
              "    .dataframe tbody tr th {\n",
              "        vertical-align: top;\n",
              "    }\n",
              "\n",
              "    .dataframe thead th {\n",
              "        text-align: right;\n",
              "    }\n",
              "</style>\n",
              "<table border=\"1\" class=\"dataframe\">\n",
              "  <thead>\n",
              "    <tr style=\"text-align: right;\">\n",
              "      <th></th>\n",
              "      <th>record</th>\n",
              "      <th>Bullied_on_school_property_in_past_12_months</th>\n",
              "      <th>Bullied_not_on_school_property_in_past_12_months</th>\n",
              "      <th>Cyber_bullied_in_past_12_months</th>\n",
              "      <th>Custom_Age</th>\n",
              "      <th>Sex</th>\n",
              "      <th>Physically_attacked</th>\n",
              "      <th>Physical_fighting</th>\n",
              "      <th>Felt_lonely</th>\n",
              "      <th>Close_friends</th>\n",
              "      <th>Miss_school_no_permission</th>\n",
              "      <th>Other_students_kind_and_helpful</th>\n",
              "      <th>Parents_understand_problems</th>\n",
              "      <th>Most_of_the_time_or_always_felt_lonely</th>\n",
              "      <th>Missed_classes_or_school_without_permission</th>\n",
              "      <th>Were_underweight</th>\n",
              "      <th>Were_overweight</th>\n",
              "      <th>Were_obese</th>\n",
              "    </tr>\n",
              "  </thead>\n",
              "  <tbody>\n",
              "    <tr>\n",
              "      <th>0</th>\n",
              "      <td>1</td>\n",
              "      <td>Yes</td>\n",
              "      <td>Yes</td>\n",
              "      <td></td>\n",
              "      <td>13 years old</td>\n",
              "      <td>Female</td>\n",
              "      <td>0 times</td>\n",
              "      <td>0 times</td>\n",
              "      <td>Always</td>\n",
              "      <td>2</td>\n",
              "      <td>10 or more days</td>\n",
              "      <td>Never</td>\n",
              "      <td>Always</td>\n",
              "      <td>Yes</td>\n",
              "      <td>Yes</td>\n",
              "      <td></td>\n",
              "      <td></td>\n",
              "      <td></td>\n",
              "    </tr>\n",
              "    <tr>\n",
              "      <th>1</th>\n",
              "      <td>2</td>\n",
              "      <td>No</td>\n",
              "      <td>No</td>\n",
              "      <td>No</td>\n",
              "      <td>13 years old</td>\n",
              "      <td>Female</td>\n",
              "      <td>0 times</td>\n",
              "      <td>0 times</td>\n",
              "      <td>Never</td>\n",
              "      <td>3 or more</td>\n",
              "      <td>0 days</td>\n",
              "      <td>Sometimes</td>\n",
              "      <td>Always</td>\n",
              "      <td>No</td>\n",
              "      <td>No</td>\n",
              "      <td></td>\n",
              "      <td></td>\n",
              "      <td></td>\n",
              "    </tr>\n",
              "    <tr>\n",
              "      <th>2</th>\n",
              "      <td>3</td>\n",
              "      <td>No</td>\n",
              "      <td>No</td>\n",
              "      <td>No</td>\n",
              "      <td>14 years old</td>\n",
              "      <td>Male</td>\n",
              "      <td>0 times</td>\n",
              "      <td>0 times</td>\n",
              "      <td>Never</td>\n",
              "      <td>3 or more</td>\n",
              "      <td>0 days</td>\n",
              "      <td>Sometimes</td>\n",
              "      <td>Always</td>\n",
              "      <td>No</td>\n",
              "      <td>No</td>\n",
              "      <td>No</td>\n",
              "      <td>No</td>\n",
              "      <td>No</td>\n",
              "    </tr>\n",
              "    <tr>\n",
              "      <th>3</th>\n",
              "      <td>4</td>\n",
              "      <td>No</td>\n",
              "      <td>No</td>\n",
              "      <td>No</td>\n",
              "      <td>16 years old</td>\n",
              "      <td>Male</td>\n",
              "      <td>0 times</td>\n",
              "      <td>2 or 3 times</td>\n",
              "      <td>Never</td>\n",
              "      <td>3 or more</td>\n",
              "      <td>0 days</td>\n",
              "      <td>Sometimes</td>\n",
              "      <td></td>\n",
              "      <td>No</td>\n",
              "      <td>No</td>\n",
              "      <td>No</td>\n",
              "      <td>No</td>\n",
              "      <td>No</td>\n",
              "    </tr>\n",
              "    <tr>\n",
              "      <th>4</th>\n",
              "      <td>5</td>\n",
              "      <td>No</td>\n",
              "      <td>No</td>\n",
              "      <td>No</td>\n",
              "      <td>13 years old</td>\n",
              "      <td>Female</td>\n",
              "      <td>0 times</td>\n",
              "      <td>0 times</td>\n",
              "      <td>Rarely</td>\n",
              "      <td>3 or more</td>\n",
              "      <td>0 days</td>\n",
              "      <td>Most of the time</td>\n",
              "      <td>Most of the time</td>\n",
              "      <td>No</td>\n",
              "      <td>No</td>\n",
              "      <td></td>\n",
              "      <td></td>\n",
              "      <td></td>\n",
              "    </tr>\n",
              "    <tr>\n",
              "      <th>...</th>\n",
              "      <td>...</td>\n",
              "      <td>...</td>\n",
              "      <td>...</td>\n",
              "      <td>...</td>\n",
              "      <td>...</td>\n",
              "      <td>...</td>\n",
              "      <td>...</td>\n",
              "      <td>...</td>\n",
              "      <td>...</td>\n",
              "      <td>...</td>\n",
              "      <td>...</td>\n",
              "      <td>...</td>\n",
              "      <td>...</td>\n",
              "      <td>...</td>\n",
              "      <td>...</td>\n",
              "      <td>...</td>\n",
              "      <td>...</td>\n",
              "      <td>...</td>\n",
              "    </tr>\n",
              "    <tr>\n",
              "      <th>126</th>\n",
              "      <td>127</td>\n",
              "      <td>No</td>\n",
              "      <td>No</td>\n",
              "      <td>No</td>\n",
              "      <td>13 years old</td>\n",
              "      <td>Male</td>\n",
              "      <td>0 times</td>\n",
              "      <td>0 times</td>\n",
              "      <td>Most of the time</td>\n",
              "      <td>0</td>\n",
              "      <td>0 days</td>\n",
              "      <td>Sometimes</td>\n",
              "      <td>Rarely</td>\n",
              "      <td>Yes</td>\n",
              "      <td>No</td>\n",
              "      <td></td>\n",
              "      <td></td>\n",
              "      <td></td>\n",
              "    </tr>\n",
              "    <tr>\n",
              "      <th>127</th>\n",
              "      <td>128</td>\n",
              "      <td>No</td>\n",
              "      <td>No</td>\n",
              "      <td>No</td>\n",
              "      <td>13 years old</td>\n",
              "      <td>Female</td>\n",
              "      <td>4 or 5 times</td>\n",
              "      <td>4 or 5 times</td>\n",
              "      <td>Rarely</td>\n",
              "      <td>3 or more</td>\n",
              "      <td>0 days</td>\n",
              "      <td>Sometimes</td>\n",
              "      <td>Sometimes</td>\n",
              "      <td>No</td>\n",
              "      <td>No</td>\n",
              "      <td></td>\n",
              "      <td></td>\n",
              "      <td></td>\n",
              "    </tr>\n",
              "    <tr>\n",
              "      <th>128</th>\n",
              "      <td>129</td>\n",
              "      <td>Yes</td>\n",
              "      <td>Yes</td>\n",
              "      <td>Yes</td>\n",
              "      <td>14 years old</td>\n",
              "      <td>Female</td>\n",
              "      <td>10 or 11 times</td>\n",
              "      <td>1 time</td>\n",
              "      <td>Always</td>\n",
              "      <td>3 or more</td>\n",
              "      <td>0 days</td>\n",
              "      <td>Sometimes</td>\n",
              "      <td>Most of the time</td>\n",
              "      <td>Yes</td>\n",
              "      <td>No</td>\n",
              "      <td>No</td>\n",
              "      <td>No</td>\n",
              "      <td>No</td>\n",
              "    </tr>\n",
              "    <tr>\n",
              "      <th>129</th>\n",
              "      <td>130</td>\n",
              "      <td>No</td>\n",
              "      <td>No</td>\n",
              "      <td>No</td>\n",
              "      <td>13 years old</td>\n",
              "      <td>Male</td>\n",
              "      <td>0 times</td>\n",
              "      <td>4 or 5 times</td>\n",
              "      <td>Never</td>\n",
              "      <td>3 or more</td>\n",
              "      <td>1 or 2 days</td>\n",
              "      <td>Rarely</td>\n",
              "      <td>Sometimes</td>\n",
              "      <td>No</td>\n",
              "      <td>Yes</td>\n",
              "      <td>No</td>\n",
              "      <td>Yes</td>\n",
              "      <td>No</td>\n",
              "    </tr>\n",
              "    <tr>\n",
              "      <th>130</th>\n",
              "      <td>131</td>\n",
              "      <td></td>\n",
              "      <td>Yes</td>\n",
              "      <td>No</td>\n",
              "      <td>13 years old</td>\n",
              "      <td>Female</td>\n",
              "      <td>0 times</td>\n",
              "      <td>0 times</td>\n",
              "      <td>Rarely</td>\n",
              "      <td>3 or more</td>\n",
              "      <td>0 days</td>\n",
              "      <td>Most of the time</td>\n",
              "      <td>Always</td>\n",
              "      <td>No</td>\n",
              "      <td>No</td>\n",
              "      <td>No</td>\n",
              "      <td>No</td>\n",
              "      <td>No</td>\n",
              "    </tr>\n",
              "  </tbody>\n",
              "</table>\n",
              "<p>131 rows × 18 columns</p>\n",
              "</div>\n",
              "      <button class=\"colab-df-convert\" onclick=\"convertToInteractive('df-49ee9bf5-a770-46a5-8825-efceae8908ac')\"\n",
              "              title=\"Convert this dataframe to an interactive table.\"\n",
              "              style=\"display:none;\">\n",
              "        \n",
              "  <svg xmlns=\"http://www.w3.org/2000/svg\" height=\"24px\"viewBox=\"0 0 24 24\"\n",
              "       width=\"24px\">\n",
              "    <path d=\"M0 0h24v24H0V0z\" fill=\"none\"/>\n",
              "    <path d=\"M18.56 5.44l.94 2.06.94-2.06 2.06-.94-2.06-.94-.94-2.06-.94 2.06-2.06.94zm-11 1L8.5 8.5l.94-2.06 2.06-.94-2.06-.94L8.5 2.5l-.94 2.06-2.06.94zm10 10l.94 2.06.94-2.06 2.06-.94-2.06-.94-.94-2.06-.94 2.06-2.06.94z\"/><path d=\"M17.41 7.96l-1.37-1.37c-.4-.4-.92-.59-1.43-.59-.52 0-1.04.2-1.43.59L10.3 9.45l-7.72 7.72c-.78.78-.78 2.05 0 2.83L4 21.41c.39.39.9.59 1.41.59.51 0 1.02-.2 1.41-.59l7.78-7.78 2.81-2.81c.8-.78.8-2.07 0-2.86zM5.41 20L4 18.59l7.72-7.72 1.47 1.35L5.41 20z\"/>\n",
              "  </svg>\n",
              "      </button>\n",
              "      \n",
              "  <style>\n",
              "    .colab-df-container {\n",
              "      display:flex;\n",
              "      flex-wrap:wrap;\n",
              "      gap: 12px;\n",
              "    }\n",
              "\n",
              "    .colab-df-convert {\n",
              "      background-color: #E8F0FE;\n",
              "      border: none;\n",
              "      border-radius: 50%;\n",
              "      cursor: pointer;\n",
              "      display: none;\n",
              "      fill: #1967D2;\n",
              "      height: 32px;\n",
              "      padding: 0 0 0 0;\n",
              "      width: 32px;\n",
              "    }\n",
              "\n",
              "    .colab-df-convert:hover {\n",
              "      background-color: #E2EBFA;\n",
              "      box-shadow: 0px 1px 2px rgba(60, 64, 67, 0.3), 0px 1px 3px 1px rgba(60, 64, 67, 0.15);\n",
              "      fill: #174EA6;\n",
              "    }\n",
              "\n",
              "    [theme=dark] .colab-df-convert {\n",
              "      background-color: #3B4455;\n",
              "      fill: #D2E3FC;\n",
              "    }\n",
              "\n",
              "    [theme=dark] .colab-df-convert:hover {\n",
              "      background-color: #434B5C;\n",
              "      box-shadow: 0px 1px 3px 1px rgba(0, 0, 0, 0.15);\n",
              "      filter: drop-shadow(0px 1px 2px rgba(0, 0, 0, 0.3));\n",
              "      fill: #FFFFFF;\n",
              "    }\n",
              "  </style>\n",
              "\n",
              "      <script>\n",
              "        const buttonEl =\n",
              "          document.querySelector('#df-49ee9bf5-a770-46a5-8825-efceae8908ac button.colab-df-convert');\n",
              "        buttonEl.style.display =\n",
              "          google.colab.kernel.accessAllowed ? 'block' : 'none';\n",
              "\n",
              "        async function convertToInteractive(key) {\n",
              "          const element = document.querySelector('#df-49ee9bf5-a770-46a5-8825-efceae8908ac');\n",
              "          const dataTable =\n",
              "            await google.colab.kernel.invokeFunction('convertToInteractive',\n",
              "                                                     [key], {});\n",
              "          if (!dataTable) return;\n",
              "\n",
              "          const docLinkHtml = 'Like what you see? Visit the ' +\n",
              "            '<a target=\"_blank\" href=https://colab.research.google.com/notebooks/data_table.ipynb>data table notebook</a>'\n",
              "            + ' to learn more about interactive tables.';\n",
              "          element.innerHTML = '';\n",
              "          dataTable['output_type'] = 'display_data';\n",
              "          await google.colab.output.renderOutput(dataTable, element);\n",
              "          const docLink = document.createElement('div');\n",
              "          docLink.innerHTML = docLinkHtml;\n",
              "          element.appendChild(docLink);\n",
              "        }\n",
              "      </script>\n",
              "    </div>\n",
              "  </div>\n",
              "  "
            ]
          },
          "metadata": {},
          "execution_count": 99
        }
      ]
    },
    {
      "cell_type": "code",
      "source": [
        "data.isnull().sum()"
      ],
      "metadata": {
        "colab": {
          "base_uri": "https://localhost:8080/"
        },
        "id": "UCRM8StXU-r2",
        "outputId": "dd02d016-c113-48ae-defa-bb0ce92f00f6"
      },
      "execution_count": 100,
      "outputs": [
        {
          "output_type": "execute_result",
          "data": {
            "text/plain": [
              "record                                              0\n",
              "Bullied_on_school_property_in_past_12_months        0\n",
              "Bullied_not_on_school_property_in_past_12_months    0\n",
              "Cyber_bullied_in_past_12_months                     0\n",
              "Custom_Age                                          0\n",
              "Sex                                                 0\n",
              "Physically_attacked                                 0\n",
              "Physical_fighting                                   0\n",
              "Felt_lonely                                         0\n",
              "Close_friends                                       0\n",
              "Miss_school_no_permission                           0\n",
              "Other_students_kind_and_helpful                     0\n",
              "Parents_understand_problems                         0\n",
              "Most_of_the_time_or_always_felt_lonely              0\n",
              "Missed_classes_or_school_without_permission         0\n",
              "Were_underweight                                    0\n",
              "Were_overweight                                     0\n",
              "Were_obese                                          0\n",
              "dtype: int64"
            ]
          },
          "metadata": {},
          "execution_count": 100
        }
      ]
    },
    {
      "cell_type": "code",
      "source": [
        "data.info()"
      ],
      "metadata": {
        "colab": {
          "base_uri": "https://localhost:8080/"
        },
        "id": "qx3sbkxHVSrD",
        "outputId": "5e3f6df0-5cd6-4909-f7b8-fb7da8e5dce8"
      },
      "execution_count": 101,
      "outputs": [
        {
          "output_type": "stream",
          "name": "stdout",
          "text": [
            "<class 'pandas.core.frame.DataFrame'>\n",
            "RangeIndex: 56981 entries, 0 to 56980\n",
            "Data columns (total 18 columns):\n",
            " #   Column                                            Non-Null Count  Dtype \n",
            "---  ------                                            --------------  ----- \n",
            " 0   record                                            56981 non-null  int64 \n",
            " 1   Bullied_on_school_property_in_past_12_months      56981 non-null  object\n",
            " 2   Bullied_not_on_school_property_in_past_12_months  56981 non-null  object\n",
            " 3   Cyber_bullied_in_past_12_months                   56981 non-null  object\n",
            " 4   Custom_Age                                        56981 non-null  object\n",
            " 5   Sex                                               56981 non-null  object\n",
            " 6   Physically_attacked                               56981 non-null  object\n",
            " 7   Physical_fighting                                 56981 non-null  object\n",
            " 8   Felt_lonely                                       56981 non-null  object\n",
            " 9   Close_friends                                     56981 non-null  object\n",
            " 10  Miss_school_no_permission                         56981 non-null  object\n",
            " 11  Other_students_kind_and_helpful                   56981 non-null  object\n",
            " 12  Parents_understand_problems                       56981 non-null  object\n",
            " 13  Most_of_the_time_or_always_felt_lonely            56981 non-null  object\n",
            " 14  Missed_classes_or_school_without_permission       56981 non-null  object\n",
            " 15  Were_underweight                                  56981 non-null  object\n",
            " 16  Were_overweight                                   56981 non-null  object\n",
            " 17  Were_obese                                        56981 non-null  object\n",
            "dtypes: int64(1), object(17)\n",
            "memory usage: 7.8+ MB\n"
          ]
        }
      ]
    },
    {
      "cell_type": "code",
      "source": [
        "data.describe()"
      ],
      "metadata": {
        "colab": {
          "base_uri": "https://localhost:8080/",
          "height": 300
        },
        "id": "o4F8BtIOWEba",
        "outputId": "1487bbf0-5053-4bba-bf64-be13af25c4f7"
      },
      "execution_count": 102,
      "outputs": [
        {
          "output_type": "execute_result",
          "data": {
            "text/plain": [
              "             record\n",
              "count  56981.000000\n",
              "mean   28535.389832\n",
              "std    16479.971553\n",
              "min        1.000000\n",
              "25%    14263.000000\n",
              "50%    28522.000000\n",
              "75%    42804.000000\n",
              "max    57095.000000"
            ],
            "text/html": [
              "\n",
              "  <div id=\"df-3ff6156f-d35a-4482-a0d2-fdc566ee91dd\">\n",
              "    <div class=\"colab-df-container\">\n",
              "      <div>\n",
              "<style scoped>\n",
              "    .dataframe tbody tr th:only-of-type {\n",
              "        vertical-align: middle;\n",
              "    }\n",
              "\n",
              "    .dataframe tbody tr th {\n",
              "        vertical-align: top;\n",
              "    }\n",
              "\n",
              "    .dataframe thead th {\n",
              "        text-align: right;\n",
              "    }\n",
              "</style>\n",
              "<table border=\"1\" class=\"dataframe\">\n",
              "  <thead>\n",
              "    <tr style=\"text-align: right;\">\n",
              "      <th></th>\n",
              "      <th>record</th>\n",
              "    </tr>\n",
              "  </thead>\n",
              "  <tbody>\n",
              "    <tr>\n",
              "      <th>count</th>\n",
              "      <td>56981.000000</td>\n",
              "    </tr>\n",
              "    <tr>\n",
              "      <th>mean</th>\n",
              "      <td>28535.389832</td>\n",
              "    </tr>\n",
              "    <tr>\n",
              "      <th>std</th>\n",
              "      <td>16479.971553</td>\n",
              "    </tr>\n",
              "    <tr>\n",
              "      <th>min</th>\n",
              "      <td>1.000000</td>\n",
              "    </tr>\n",
              "    <tr>\n",
              "      <th>25%</th>\n",
              "      <td>14263.000000</td>\n",
              "    </tr>\n",
              "    <tr>\n",
              "      <th>50%</th>\n",
              "      <td>28522.000000</td>\n",
              "    </tr>\n",
              "    <tr>\n",
              "      <th>75%</th>\n",
              "      <td>42804.000000</td>\n",
              "    </tr>\n",
              "    <tr>\n",
              "      <th>max</th>\n",
              "      <td>57095.000000</td>\n",
              "    </tr>\n",
              "  </tbody>\n",
              "</table>\n",
              "</div>\n",
              "      <button class=\"colab-df-convert\" onclick=\"convertToInteractive('df-3ff6156f-d35a-4482-a0d2-fdc566ee91dd')\"\n",
              "              title=\"Convert this dataframe to an interactive table.\"\n",
              "              style=\"display:none;\">\n",
              "        \n",
              "  <svg xmlns=\"http://www.w3.org/2000/svg\" height=\"24px\"viewBox=\"0 0 24 24\"\n",
              "       width=\"24px\">\n",
              "    <path d=\"M0 0h24v24H0V0z\" fill=\"none\"/>\n",
              "    <path d=\"M18.56 5.44l.94 2.06.94-2.06 2.06-.94-2.06-.94-.94-2.06-.94 2.06-2.06.94zm-11 1L8.5 8.5l.94-2.06 2.06-.94-2.06-.94L8.5 2.5l-.94 2.06-2.06.94zm10 10l.94 2.06.94-2.06 2.06-.94-2.06-.94-.94-2.06-.94 2.06-2.06.94z\"/><path d=\"M17.41 7.96l-1.37-1.37c-.4-.4-.92-.59-1.43-.59-.52 0-1.04.2-1.43.59L10.3 9.45l-7.72 7.72c-.78.78-.78 2.05 0 2.83L4 21.41c.39.39.9.59 1.41.59.51 0 1.02-.2 1.41-.59l7.78-7.78 2.81-2.81c.8-.78.8-2.07 0-2.86zM5.41 20L4 18.59l7.72-7.72 1.47 1.35L5.41 20z\"/>\n",
              "  </svg>\n",
              "      </button>\n",
              "      \n",
              "  <style>\n",
              "    .colab-df-container {\n",
              "      display:flex;\n",
              "      flex-wrap:wrap;\n",
              "      gap: 12px;\n",
              "    }\n",
              "\n",
              "    .colab-df-convert {\n",
              "      background-color: #E8F0FE;\n",
              "      border: none;\n",
              "      border-radius: 50%;\n",
              "      cursor: pointer;\n",
              "      display: none;\n",
              "      fill: #1967D2;\n",
              "      height: 32px;\n",
              "      padding: 0 0 0 0;\n",
              "      width: 32px;\n",
              "    }\n",
              "\n",
              "    .colab-df-convert:hover {\n",
              "      background-color: #E2EBFA;\n",
              "      box-shadow: 0px 1px 2px rgba(60, 64, 67, 0.3), 0px 1px 3px 1px rgba(60, 64, 67, 0.15);\n",
              "      fill: #174EA6;\n",
              "    }\n",
              "\n",
              "    [theme=dark] .colab-df-convert {\n",
              "      background-color: #3B4455;\n",
              "      fill: #D2E3FC;\n",
              "    }\n",
              "\n",
              "    [theme=dark] .colab-df-convert:hover {\n",
              "      background-color: #434B5C;\n",
              "      box-shadow: 0px 1px 3px 1px rgba(0, 0, 0, 0.15);\n",
              "      filter: drop-shadow(0px 1px 2px rgba(0, 0, 0, 0.3));\n",
              "      fill: #FFFFFF;\n",
              "    }\n",
              "  </style>\n",
              "\n",
              "      <script>\n",
              "        const buttonEl =\n",
              "          document.querySelector('#df-3ff6156f-d35a-4482-a0d2-fdc566ee91dd button.colab-df-convert');\n",
              "        buttonEl.style.display =\n",
              "          google.colab.kernel.accessAllowed ? 'block' : 'none';\n",
              "\n",
              "        async function convertToInteractive(key) {\n",
              "          const element = document.querySelector('#df-3ff6156f-d35a-4482-a0d2-fdc566ee91dd');\n",
              "          const dataTable =\n",
              "            await google.colab.kernel.invokeFunction('convertToInteractive',\n",
              "                                                     [key], {});\n",
              "          if (!dataTable) return;\n",
              "\n",
              "          const docLinkHtml = 'Like what you see? Visit the ' +\n",
              "            '<a target=\"_blank\" href=https://colab.research.google.com/notebooks/data_table.ipynb>data table notebook</a>'\n",
              "            + ' to learn more about interactive tables.';\n",
              "          element.innerHTML = '';\n",
              "          dataTable['output_type'] = 'display_data';\n",
              "          await google.colab.output.renderOutput(dataTable, element);\n",
              "          const docLink = document.createElement('div');\n",
              "          docLink.innerHTML = docLinkHtml;\n",
              "          element.appendChild(docLink);\n",
              "        }\n",
              "      </script>\n",
              "    </div>\n",
              "  </div>\n",
              "  "
            ]
          },
          "metadata": {},
          "execution_count": 102
        }
      ]
    },
    {
      "cell_type": "code",
      "source": [
        "data.replace(r'^\\s*$', np.nan, regex=True, inplace=True)"
      ],
      "metadata": {
        "id": "SGUodJGFWF0r"
      },
      "execution_count": 103,
      "outputs": []
    },
    {
      "cell_type": "code",
      "source": [
        "data = data.dropna()"
      ],
      "metadata": {
        "id": "jXAndDIuMae4"
      },
      "execution_count": 104,
      "outputs": []
    },
    {
      "cell_type": "code",
      "source": [
        "data.isna().sum()"
      ],
      "metadata": {
        "colab": {
          "base_uri": "https://localhost:8080/"
        },
        "id": "0BjC7d1RzU9z",
        "outputId": "0e73d50c-e792-4274-f282-c91224120038"
      },
      "execution_count": 105,
      "outputs": [
        {
          "output_type": "execute_result",
          "data": {
            "text/plain": [
              "record                                              0\n",
              "Bullied_on_school_property_in_past_12_months        0\n",
              "Bullied_not_on_school_property_in_past_12_months    0\n",
              "Cyber_bullied_in_past_12_months                     0\n",
              "Custom_Age                                          0\n",
              "Sex                                                 0\n",
              "Physically_attacked                                 0\n",
              "Physical_fighting                                   0\n",
              "Felt_lonely                                         0\n",
              "Close_friends                                       0\n",
              "Miss_school_no_permission                           0\n",
              "Other_students_kind_and_helpful                     0\n",
              "Parents_understand_problems                         0\n",
              "Most_of_the_time_or_always_felt_lonely              0\n",
              "Missed_classes_or_school_without_permission         0\n",
              "Were_underweight                                    0\n",
              "Were_overweight                                     0\n",
              "Were_obese                                          0\n",
              "dtype: int64"
            ]
          },
          "metadata": {},
          "execution_count": 105
        }
      ]
    },
    {
      "cell_type": "code",
      "source": [
        "#encoding the values of text to numerical data"
      ],
      "metadata": {
        "id": "cBcDVjZ0XeCz"
      },
      "execution_count": 106,
      "outputs": []
    },
    {
      "cell_type": "code",
      "source": [
        "le=LabelEncoder()\n",
        "data['Bullied_on_school_property_in_past_12_months']= le.fit_transform(data['Bullied_on_school_property_in_past_12_months'])\n",
        "data['Bullied_not_on_school_property_in_past_12_months']= le.fit_transform(data['Bullied_not_on_school_property_in_past_12_months'])\n",
        "data['Cyber_bullied_in_past_12_months']= le.fit_transform(data['Cyber_bullied_in_past_12_months'])\n",
        "data['Custom_Age']= le.fit_transform(data['Custom_Age'])\n",
        "data['Sex']= le.fit_transform(data['Sex'])\n",
        "data['Physically_attacked']= le.fit_transform(data['Physically_attacked'])\n",
        "data['Physical_fighting']= le.fit_transform(data['Physical_fighting'])\n",
        "data['Felt_lonely']= le.fit_transform(data['Felt_lonely'])\n",
        "data['Close_friends']= le.fit_transform(data['Close_friends'])\n",
        "data['Miss_school_no_permission']= le.fit_transform(data['Miss_school_no_permission'])\n",
        "data['Parents_understand_problems']= le.fit_transform(data['Parents_understand_problems'])\n",
        "data['Other_students_kind_and_helpful']= le.fit_transform(data['Other_students_kind_and_helpful'])\n",
        "data['Most_of_the_time_or_always_felt_lonely']= le.fit_transform(data['Most_of_the_time_or_always_felt_lonely'])\n",
        "data['Missed_classes_or_school_without_permission']= le.fit_transform(data['Missed_classes_or_school_without_permission'])"
      ],
      "metadata": {
        "id": "tiUVCkAgzrjt"
      },
      "execution_count": 107,
      "outputs": []
    },
    {
      "cell_type": "code",
      "source": [
        "# declaration for making three prediction models "
      ],
      "metadata": {
        "id": "sbWhRvUeXl-k"
      },
      "execution_count": 108,
      "outputs": []
    },
    {
      "cell_type": "code",
      "source": [
        "X = data.values[:,4:14]\n",
        "Y2 = data.Bullied_not_on_school_property_in_past_12_months\n",
        "Y1 = data.Bullied_on_school_property_in_past_12_months\n",
        "Y3 = data.Cyber_bullied_in_past_12_months"
      ],
      "metadata": {
        "id": "S4gmSwWP2ug6"
      },
      "execution_count": 109,
      "outputs": []
    },
    {
      "cell_type": "code",
      "source": [
        "data.head()"
      ],
      "metadata": {
        "colab": {
          "base_uri": "https://localhost:8080/",
          "height": 270
        },
        "id": "bTgR3NaL1JSO",
        "outputId": "f255698f-2de0-4595-d114-90cbc2588c41"
      },
      "execution_count": 110,
      "outputs": [
        {
          "output_type": "execute_result",
          "data": {
            "text/plain": [
              "    record  Bullied_on_school_property_in_past_12_months  \\\n",
              "2        3                                             0   \n",
              "5        6                                             0   \n",
              "10      11                                             0   \n",
              "22      23                                             0   \n",
              "23      24                                             0   \n",
              "\n",
              "    Bullied_not_on_school_property_in_past_12_months  \\\n",
              "2                                                  0   \n",
              "5                                                  0   \n",
              "10                                                 0   \n",
              "22                                                 0   \n",
              "23                                                 0   \n",
              "\n",
              "    Cyber_bullied_in_past_12_months  Custom_Age  Sex  Physically_attacked  \\\n",
              "2                                 0           3    1                    0   \n",
              "5                                 0           2    1                    0   \n",
              "10                                0           4    1                    0   \n",
              "22                                1           2    1                    0   \n",
              "23                                0           3    1                    0   \n",
              "\n",
              "    Physical_fighting  Felt_lonely  Close_friends  Miss_school_no_permission  \\\n",
              "2                   0            2              3                          0   \n",
              "5                   1            2              3                          0   \n",
              "10                  1            2              3                          3   \n",
              "22                  4            1              3                          0   \n",
              "23                  4            1              2                          0   \n",
              "\n",
              "    Other_students_kind_and_helpful  Parents_understand_problems  \\\n",
              "2                                 4                            0   \n",
              "5                                 1                            0   \n",
              "10                                1                            0   \n",
              "22                                3                            0   \n",
              "23                                0                            4   \n",
              "\n",
              "    Most_of_the_time_or_always_felt_lonely  \\\n",
              "2                                        0   \n",
              "5                                        0   \n",
              "10                                       0   \n",
              "22                                       1   \n",
              "23                                       1   \n",
              "\n",
              "    Missed_classes_or_school_without_permission Were_underweight  \\\n",
              "2                                             0               No   \n",
              "5                                             0               No   \n",
              "10                                            1               No   \n",
              "22                                            0               No   \n",
              "23                                            0               No   \n",
              "\n",
              "   Were_overweight Were_obese  \n",
              "2               No         No  \n",
              "5               No         No  \n",
              "10              No         No  \n",
              "22              No         No  \n",
              "23             Yes        Yes  "
            ],
            "text/html": [
              "\n",
              "  <div id=\"df-ab858cb1-8fac-44c7-a67e-db8d9796adf3\">\n",
              "    <div class=\"colab-df-container\">\n",
              "      <div>\n",
              "<style scoped>\n",
              "    .dataframe tbody tr th:only-of-type {\n",
              "        vertical-align: middle;\n",
              "    }\n",
              "\n",
              "    .dataframe tbody tr th {\n",
              "        vertical-align: top;\n",
              "    }\n",
              "\n",
              "    .dataframe thead th {\n",
              "        text-align: right;\n",
              "    }\n",
              "</style>\n",
              "<table border=\"1\" class=\"dataframe\">\n",
              "  <thead>\n",
              "    <tr style=\"text-align: right;\">\n",
              "      <th></th>\n",
              "      <th>record</th>\n",
              "      <th>Bullied_on_school_property_in_past_12_months</th>\n",
              "      <th>Bullied_not_on_school_property_in_past_12_months</th>\n",
              "      <th>Cyber_bullied_in_past_12_months</th>\n",
              "      <th>Custom_Age</th>\n",
              "      <th>Sex</th>\n",
              "      <th>Physically_attacked</th>\n",
              "      <th>Physical_fighting</th>\n",
              "      <th>Felt_lonely</th>\n",
              "      <th>Close_friends</th>\n",
              "      <th>Miss_school_no_permission</th>\n",
              "      <th>Other_students_kind_and_helpful</th>\n",
              "      <th>Parents_understand_problems</th>\n",
              "      <th>Most_of_the_time_or_always_felt_lonely</th>\n",
              "      <th>Missed_classes_or_school_without_permission</th>\n",
              "      <th>Were_underweight</th>\n",
              "      <th>Were_overweight</th>\n",
              "      <th>Were_obese</th>\n",
              "    </tr>\n",
              "  </thead>\n",
              "  <tbody>\n",
              "    <tr>\n",
              "      <th>2</th>\n",
              "      <td>3</td>\n",
              "      <td>0</td>\n",
              "      <td>0</td>\n",
              "      <td>0</td>\n",
              "      <td>3</td>\n",
              "      <td>1</td>\n",
              "      <td>0</td>\n",
              "      <td>0</td>\n",
              "      <td>2</td>\n",
              "      <td>3</td>\n",
              "      <td>0</td>\n",
              "      <td>4</td>\n",
              "      <td>0</td>\n",
              "      <td>0</td>\n",
              "      <td>0</td>\n",
              "      <td>No</td>\n",
              "      <td>No</td>\n",
              "      <td>No</td>\n",
              "    </tr>\n",
              "    <tr>\n",
              "      <th>5</th>\n",
              "      <td>6</td>\n",
              "      <td>0</td>\n",
              "      <td>0</td>\n",
              "      <td>0</td>\n",
              "      <td>2</td>\n",
              "      <td>1</td>\n",
              "      <td>0</td>\n",
              "      <td>1</td>\n",
              "      <td>2</td>\n",
              "      <td>3</td>\n",
              "      <td>0</td>\n",
              "      <td>1</td>\n",
              "      <td>0</td>\n",
              "      <td>0</td>\n",
              "      <td>0</td>\n",
              "      <td>No</td>\n",
              "      <td>No</td>\n",
              "      <td>No</td>\n",
              "    </tr>\n",
              "    <tr>\n",
              "      <th>10</th>\n",
              "      <td>11</td>\n",
              "      <td>0</td>\n",
              "      <td>0</td>\n",
              "      <td>0</td>\n",
              "      <td>4</td>\n",
              "      <td>1</td>\n",
              "      <td>0</td>\n",
              "      <td>1</td>\n",
              "      <td>2</td>\n",
              "      <td>3</td>\n",
              "      <td>3</td>\n",
              "      <td>1</td>\n",
              "      <td>0</td>\n",
              "      <td>0</td>\n",
              "      <td>1</td>\n",
              "      <td>No</td>\n",
              "      <td>No</td>\n",
              "      <td>No</td>\n",
              "    </tr>\n",
              "    <tr>\n",
              "      <th>22</th>\n",
              "      <td>23</td>\n",
              "      <td>0</td>\n",
              "      <td>0</td>\n",
              "      <td>1</td>\n",
              "      <td>2</td>\n",
              "      <td>1</td>\n",
              "      <td>0</td>\n",
              "      <td>4</td>\n",
              "      <td>1</td>\n",
              "      <td>3</td>\n",
              "      <td>0</td>\n",
              "      <td>3</td>\n",
              "      <td>0</td>\n",
              "      <td>1</td>\n",
              "      <td>0</td>\n",
              "      <td>No</td>\n",
              "      <td>No</td>\n",
              "      <td>No</td>\n",
              "    </tr>\n",
              "    <tr>\n",
              "      <th>23</th>\n",
              "      <td>24</td>\n",
              "      <td>0</td>\n",
              "      <td>0</td>\n",
              "      <td>0</td>\n",
              "      <td>3</td>\n",
              "      <td>1</td>\n",
              "      <td>0</td>\n",
              "      <td>4</td>\n",
              "      <td>1</td>\n",
              "      <td>2</td>\n",
              "      <td>0</td>\n",
              "      <td>0</td>\n",
              "      <td>4</td>\n",
              "      <td>1</td>\n",
              "      <td>0</td>\n",
              "      <td>No</td>\n",
              "      <td>Yes</td>\n",
              "      <td>Yes</td>\n",
              "    </tr>\n",
              "  </tbody>\n",
              "</table>\n",
              "</div>\n",
              "      <button class=\"colab-df-convert\" onclick=\"convertToInteractive('df-ab858cb1-8fac-44c7-a67e-db8d9796adf3')\"\n",
              "              title=\"Convert this dataframe to an interactive table.\"\n",
              "              style=\"display:none;\">\n",
              "        \n",
              "  <svg xmlns=\"http://www.w3.org/2000/svg\" height=\"24px\"viewBox=\"0 0 24 24\"\n",
              "       width=\"24px\">\n",
              "    <path d=\"M0 0h24v24H0V0z\" fill=\"none\"/>\n",
              "    <path d=\"M18.56 5.44l.94 2.06.94-2.06 2.06-.94-2.06-.94-.94-2.06-.94 2.06-2.06.94zm-11 1L8.5 8.5l.94-2.06 2.06-.94-2.06-.94L8.5 2.5l-.94 2.06-2.06.94zm10 10l.94 2.06.94-2.06 2.06-.94-2.06-.94-.94-2.06-.94 2.06-2.06.94z\"/><path d=\"M17.41 7.96l-1.37-1.37c-.4-.4-.92-.59-1.43-.59-.52 0-1.04.2-1.43.59L10.3 9.45l-7.72 7.72c-.78.78-.78 2.05 0 2.83L4 21.41c.39.39.9.59 1.41.59.51 0 1.02-.2 1.41-.59l7.78-7.78 2.81-2.81c.8-.78.8-2.07 0-2.86zM5.41 20L4 18.59l7.72-7.72 1.47 1.35L5.41 20z\"/>\n",
              "  </svg>\n",
              "      </button>\n",
              "      \n",
              "  <style>\n",
              "    .colab-df-container {\n",
              "      display:flex;\n",
              "      flex-wrap:wrap;\n",
              "      gap: 12px;\n",
              "    }\n",
              "\n",
              "    .colab-df-convert {\n",
              "      background-color: #E8F0FE;\n",
              "      border: none;\n",
              "      border-radius: 50%;\n",
              "      cursor: pointer;\n",
              "      display: none;\n",
              "      fill: #1967D2;\n",
              "      height: 32px;\n",
              "      padding: 0 0 0 0;\n",
              "      width: 32px;\n",
              "    }\n",
              "\n",
              "    .colab-df-convert:hover {\n",
              "      background-color: #E2EBFA;\n",
              "      box-shadow: 0px 1px 2px rgba(60, 64, 67, 0.3), 0px 1px 3px 1px rgba(60, 64, 67, 0.15);\n",
              "      fill: #174EA6;\n",
              "    }\n",
              "\n",
              "    [theme=dark] .colab-df-convert {\n",
              "      background-color: #3B4455;\n",
              "      fill: #D2E3FC;\n",
              "    }\n",
              "\n",
              "    [theme=dark] .colab-df-convert:hover {\n",
              "      background-color: #434B5C;\n",
              "      box-shadow: 0px 1px 3px 1px rgba(0, 0, 0, 0.15);\n",
              "      filter: drop-shadow(0px 1px 2px rgba(0, 0, 0, 0.3));\n",
              "      fill: #FFFFFF;\n",
              "    }\n",
              "  </style>\n",
              "\n",
              "      <script>\n",
              "        const buttonEl =\n",
              "          document.querySelector('#df-ab858cb1-8fac-44c7-a67e-db8d9796adf3 button.colab-df-convert');\n",
              "        buttonEl.style.display =\n",
              "          google.colab.kernel.accessAllowed ? 'block' : 'none';\n",
              "\n",
              "        async function convertToInteractive(key) {\n",
              "          const element = document.querySelector('#df-ab858cb1-8fac-44c7-a67e-db8d9796adf3');\n",
              "          const dataTable =\n",
              "            await google.colab.kernel.invokeFunction('convertToInteractive',\n",
              "                                                     [key], {});\n",
              "          if (!dataTable) return;\n",
              "\n",
              "          const docLinkHtml = 'Like what you see? Visit the ' +\n",
              "            '<a target=\"_blank\" href=https://colab.research.google.com/notebooks/data_table.ipynb>data table notebook</a>'\n",
              "            + ' to learn more about interactive tables.';\n",
              "          element.innerHTML = '';\n",
              "          dataTable['output_type'] = 'display_data';\n",
              "          await google.colab.output.renderOutput(dataTable, element);\n",
              "          const docLink = document.createElement('div');\n",
              "          docLink.innerHTML = docLinkHtml;\n",
              "          element.appendChild(docLink);\n",
              "        }\n",
              "      </script>\n",
              "    </div>\n",
              "  </div>\n",
              "  "
            ]
          },
          "metadata": {},
          "execution_count": 110
        }
      ]
    },
    {
      "cell_type": "code",
      "source": [
        "c = data.corr()\n"
      ],
      "metadata": {
        "id": "Bbk5VdcB76Gb"
      },
      "execution_count": 111,
      "outputs": []
    },
    {
      "cell_type": "code",
      "source": [
        "sns.heatmap(c)"
      ],
      "metadata": {
        "colab": {
          "base_uri": "https://localhost:8080/",
          "height": 798
        },
        "id": "myBkqg4d7FSi",
        "outputId": "3b48ae0f-0f3e-49eb-d21b-d17533eb7fbc"
      },
      "execution_count": 112,
      "outputs": [
        {
          "output_type": "execute_result",
          "data": {
            "text/plain": [
              "<Axes: >"
            ]
          },
          "metadata": {},
          "execution_count": 112
        },
        {
          "output_type": "display_data",
          "data": {
            "text/plain": [
              "<Figure size 640x480 with 2 Axes>"
            ],
            "image/png": "[encoded data removed]"
          },
          "metadata": {}
        }
      ]
    },
    {
      "cell_type": "code",
      "source": [
        "#splitting all three w.r.t X/Y1, X/Y2 and X/Y3"
      ],
      "metadata": {
        "id": "5q8nWQA7XzOZ"
      },
      "execution_count": 113,
      "outputs": []
    },
    {
      "cell_type": "code",
      "source": [
        "X_train,X_test,Y1_train,Y1_test = train_test_split(X,Y1,test_size = 0.4,random_state = 76)\n",
        "X_train,X_test,Y2_train,Y2_test = train_test_split(X,Y2,test_size = 0.4,random_state = 76)\n",
        "X_train,X_test,Y3_train,Y3_test = train_test_split(X,Y3,test_size = 0.4,random_state = 76)"
      ],
      "metadata": {
        "id": "RxWw00XtQl7R"
      },
      "execution_count": 114,
      "outputs": []
    },
    {
      "cell_type": "code",
      "source": [
        "model1 = DecisionTreeClassifier()\n",
        "model1.fit(X_train,Y1_train)"
      ],
      "metadata": {
        "colab": {
          "base_uri": "https://localhost:8080/",
          "height": 74
        },
        "id": "fIsiS4waO4-g",
        "outputId": "8c601361-bbb3-4188-ce59-787451e463df"
      },
      "execution_count": 115,
      "outputs": [
        {
          "output_type": "execute_result",
          "data": {
            "text/plain": [
              "DecisionTreeClassifier()"
            ],
            "text/html": [
              "<style>#sk-container-id-4 {color: black;background-color: white;}#sk-container-id-4 pre{padding: 0;}#sk-container-id-4 div.sk-toggleable {background-color: white;}#sk-container-id-4 label.sk-toggleable__label {cursor: pointer;display: block;width: 100%;margin-bottom: 0;padding: 0.3em;box-sizing: border-box;text-align: center;}#sk-container-id-4 label.sk-toggleable__label-arrow:before {content: \"▸\";float: left;margin-right: 0.25em;color: #696969;}#sk-container-id-4 label.sk-toggleable__label-arrow:hover:before {color: black;}#sk-container-id-4 div.sk-estimator:hover label.sk-toggleable__label-arrow:before {color: black;}#sk-container-id-4 div.sk-toggleable__content {max-height: 0;max-width: 0;overflow: hidden;text-align: left;background-color: #f0f8ff;}#sk-container-id-4 div.sk-toggleable__content pre {margin: 0.2em;color: black;border-radius: 0.25em;background-color: #f0f8ff;}#sk-container-id-4 input.sk-toggleable__control:checked~div.sk-toggleable__content {max-height: 200px;max-width: 100%;overflow: auto;}#sk-container-id-4 input.sk-toggleable__control:checked~label.sk-toggleable__label-arrow:before {content: \"▾\";}#sk-container-id-4 div.sk-estimator input.sk-toggleable__control:checked~label.sk-toggleable__label {background-color: #d4ebff;}#sk-container-id-4 div.sk-label input.sk-toggleable__control:checked~label.sk-toggleable__label {background-color: #d4ebff;}#sk-container-id-4 input.sk-hidden--visually {border: 0;clip: rect(1px 1px 1px 1px);clip: rect(1px, 1px, 1px, 1px);height: 1px;margin: -1px;overflow: hidden;padding: 0;position: absolute;width: 1px;}#sk-container-id-4 div.sk-estimator {font-family: monospace;background-color: #f0f8ff;border: 1px dotted black;border-radius: 0.25em;box-sizing: border-box;margin-bottom: 0.5em;}#sk-container-id-4 div.sk-estimator:hover {background-color: #d4ebff;}#sk-container-id-4 div.sk-parallel-item::after {content: \"\";width: 100%;border-bottom: 1px solid gray;flex-grow: 1;}#sk-container-id-4 div.sk-label:hover label.sk-toggleable__label {background-color: #d4ebff;}#sk-container-id-4 div.sk-serial::before {content: \"\";position: absolute;border-left: 1px solid gray;box-sizing: border-box;top: 0;bottom: 0;left: 50%;z-index: 0;}#sk-container-id-4 div.sk-serial {display: flex;flex-direction: column;align-items: center;background-color: white;padding-right: 0.2em;padding-left: 0.2em;position: relative;}#sk-container-id-4 div.sk-item {position: relative;z-index: 1;}#sk-container-id-4 div.sk-parallel {display: flex;align-items: stretch;justify-content: center;background-color: white;position: relative;}#sk-container-id-4 div.sk-item::before, #sk-container-id-4 div.sk-parallel-item::before {content: \"\";position: absolute;border-left: 1px solid gray;box-sizing: border-box;top: 0;bottom: 0;left: 50%;z-index: -1;}#sk-container-id-4 div.sk-parallel-item {display: flex;flex-direction: column;z-index: 1;position: relative;background-color: white;}#sk-container-id-4 div.sk-parallel-item:first-child::after {align-self: flex-end;width: 50%;}#sk-container-id-4 div.sk-parallel-item:last-child::after {align-self: flex-start;width: 50%;}#sk-container-id-4 div.sk-parallel-item:only-child::after {width: 0;}#sk-container-id-4 div.sk-dashed-wrapped {border: 1px dashed gray;margin: 0 0.4em 0.5em 0.4em;box-sizing: border-box;padding-bottom: 0.4em;background-color: white;}#sk-container-id-4 div.sk-label label {font-family: monospace;font-weight: bold;display: inline-block;line-height: 1.2em;}#sk-container-id-4 div.sk-label-container {text-align: center;}#sk-container-id-4 div.sk-container {/* jupyter's `normalize.less` sets `[hidden] { display: none; }` but bootstrap.min.css set `[hidden] { display: none !important; }` so we also need the `!important` here to be able to override the default hidden behavior on the sphinx rendered scikit-learn.org. See: https://github.com/scikit-learn/scikit-learn/issues/21755 */display: inline-block !important;position: relative;}#sk-container-id-4 div.sk-text-repr-fallback {display: none;}</style><div id=\"sk-container-id-4\" class=\"sk-top-container\"><div class=\"sk-text-repr-fallback\"><pre>DecisionTreeClassifier()</pre><b>In a Jupyter environment, please rerun this cell to show the HTML representation or trust the notebook. <br />On GitHub, the HTML representation is unable to render, please try loading this page with nbviewer.org.</b></div><div class=\"sk-container\" hidden><div class=\"sk-item\"><div class=\"sk-estimator sk-toggleable\"><input class=\"sk-toggleable__control sk-hidden--visually\" id=\"sk-estimator-id-4\" type=\"checkbox\" checked><label for=\"sk-estimator-id-4\" class=\"sk-toggleable__label sk-toggleable__label-arrow\">DecisionTreeClassifier</label><div class=\"sk-toggleable__content\"><pre>DecisionTreeClassifier()</pre></div></div></div></div></div>"
            ]
          },
          "metadata": {},
          "execution_count": 115
        }
      ]
    },
    {
      "cell_type": "code",
      "source": [
        "Y1_train_prediction = model1.predict(X_train)\n",
        "Acc_Y1_train = accuracy_score(Y1_train_prediction,Y1_train)\n",
        "print('Bullied_on_school_property_in_past_12_months prediction train Accuracy :',Acc_Y1_train*100)"
      ],
      "metadata": {
        "id": "w4e2mBrzTiBM",
        "colab": {
          "base_uri": "https://localhost:8080/"
        },
        "outputId": "8780e929-95e3-408e-f3f0-4c78117c5462"
      },
      "execution_count": 116,
      "outputs": [
        {
          "output_type": "stream",
          "name": "stdout",
          "text": [
            "Bullied_on_school_property_in_past_12_months prediction train Accuracy : 90.89667037749216\n"
          ]
        }
      ]
    },
    {
      "cell_type": "code",
      "source": [
        "Y1_test_prediction = model1.predict(X_test)\n",
        "Acc_Y1_test = accuracy_score(Y1_test_prediction,Y1_test)\n",
        "print('Bullied_on_school_property_in_past_12_months Prediction test Accuracy: ',Acc_Y1_test*100)"
      ],
      "metadata": {
        "id": "riaStAP0UUaA",
        "colab": {
          "base_uri": "https://localhost:8080/"
        },
        "outputId": "57df5094-01d3-44da-c222-adc553272288"
      },
      "execution_count": 117,
      "outputs": [
        {
          "output_type": "stream",
          "name": "stdout",
          "text": [
            "Bullied_on_school_property_in_past_12_months Prediction test Accuracy:  74.36247723132969\n"
          ]
        }
      ]
    },
    {
      "cell_type": "code",
      "source": [
        "print(Y1_test_prediction)"
      ],
      "metadata": {
        "colab": {
          "base_uri": "https://localhost:8080/"
        },
        "id": "bxIjh_utQ2en",
        "outputId": "2e7dbf8e-c5a8-4b43-eb66-92373c93decb"
      },
      "execution_count": 118,
      "outputs": [
        {
          "output_type": "stream",
          "name": "stdout",
          "text": [
            "[0 1 0 ... 0 1 1]\n"
          ]
        }
      ]
    },
    {
      "cell_type": "code",
      "source": [
        "model2 = DecisionTreeClassifier()\n",
        "model2.fit(X_train,Y2_train)"
      ],
      "metadata": {
        "id": "xJRsW1h4WXMB",
        "colab": {
          "base_uri": "https://localhost:8080/",
          "height": 74
        },
        "outputId": "945fc149-cda5-4453-e913-36cfcf51e014"
      },
      "execution_count": 119,
      "outputs": [
        {
          "output_type": "execute_result",
          "data": {
            "text/plain": [
              "DecisionTreeClassifier()"
            ],
            "text/html": [
              "<style>#sk-container-id-5 {color: black;background-color: white;}#sk-container-id-5 pre{padding: 0;}#sk-container-id-5 div.sk-toggleable {background-color: white;}#sk-container-id-5 label.sk-toggleable__label {cursor: pointer;display: block;width: 100%;margin-bottom: 0;padding: 0.3em;box-sizing: border-box;text-align: center;}#sk-container-id-5 label.sk-toggleable__label-arrow:before {content: \"▸\";float: left;margin-right: 0.25em;color: #696969;}#sk-container-id-5 label.sk-toggleable__label-arrow:hover:before {color: black;}#sk-container-id-5 div.sk-estimator:hover label.sk-toggleable__label-arrow:before {color: black;}#sk-container-id-5 div.sk-toggleable__content {max-height: 0;max-width: 0;overflow: hidden;text-align: left;background-color: #f0f8ff;}#sk-container-id-5 div.sk-toggleable__content pre {margin: 0.2em;color: black;border-radius: 0.25em;background-color: #f0f8ff;}#sk-container-id-5 input.sk-toggleable__control:checked~div.sk-toggleable__content {max-height: 200px;max-width: 100%;overflow: auto;}#sk-container-id-5 input.sk-toggleable__control:checked~label.sk-toggleable__label-arrow:before {content: \"▾\";}#sk-container-id-5 div.sk-estimator input.sk-toggleable__control:checked~label.sk-toggleable__label {background-color: #d4ebff;}#sk-container-id-5 div.sk-label input.sk-toggleable__control:checked~label.sk-toggleable__label {background-color: #d4ebff;}#sk-container-id-5 input.sk-hidden--visually {border: 0;clip: rect(1px 1px 1px 1px);clip: rect(1px, 1px, 1px, 1px);height: 1px;margin: -1px;overflow: hidden;padding: 0;position: absolute;width: 1px;}#sk-container-id-5 div.sk-estimator {font-family: monospace;background-color: #f0f8ff;border: 1px dotted black;border-radius: 0.25em;box-sizing: border-box;margin-bottom: 0.5em;}#sk-container-id-5 div.sk-estimator:hover {background-color: #d4ebff;}#sk-container-id-5 div.sk-parallel-item::after {content: \"\";width: 100%;border-bottom: 1px solid gray;flex-grow: 1;}#sk-container-id-5 div.sk-label:hover label.sk-toggleable__label {background-color: #d4ebff;}#sk-container-id-5 div.sk-serial::before {content: \"\";position: absolute;border-left: 1px solid gray;box-sizing: border-box;top: 0;bottom: 0;left: 50%;z-index: 0;}#sk-container-id-5 div.sk-serial {display: flex;flex-direction: column;align-items: center;background-color: white;padding-right: 0.2em;padding-left: 0.2em;position: relative;}#sk-container-id-5 div.sk-item {position: relative;z-index: 1;}#sk-container-id-5 div.sk-parallel {display: flex;align-items: stretch;justify-content: center;background-color: white;position: relative;}#sk-container-id-5 div.sk-item::before, #sk-container-id-5 div.sk-parallel-item::before {content: \"\";position: absolute;border-left: 1px solid gray;box-sizing: border-box;top: 0;bottom: 0;left: 50%;z-index: -1;}#sk-container-id-5 div.sk-parallel-item {display: flex;flex-direction: column;z-index: 1;position: relative;background-color: white;}#sk-container-id-5 div.sk-parallel-item:first-child::after {align-self: flex-end;width: 50%;}#sk-container-id-5 div.sk-parallel-item:last-child::after {align-self: flex-start;width: 50%;}#sk-container-id-5 div.sk-parallel-item:only-child::after {width: 0;}#sk-container-id-5 div.sk-dashed-wrapped {border: 1px dashed gray;margin: 0 0.4em 0.5em 0.4em;box-sizing: border-box;padding-bottom: 0.4em;background-color: white;}#sk-container-id-5 div.sk-label label {font-family: monospace;font-weight: bold;display: inline-block;line-height: 1.2em;}#sk-container-id-5 div.sk-label-container {text-align: center;}#sk-container-id-5 div.sk-container {/* jupyter's `normalize.less` sets `[hidden] { display: none; }` but bootstrap.min.css set `[hidden] { display: none !important; }` so we also need the `!important` here to be able to override the default hidden behavior on the sphinx rendered scikit-learn.org. See: https://github.com/scikit-learn/scikit-learn/issues/21755 */display: inline-block !important;position: relative;}#sk-container-id-5 div.sk-text-repr-fallback {display: none;}</style><div id=\"sk-container-id-5\" class=\"sk-top-container\"><div class=\"sk-text-repr-fallback\"><pre>DecisionTreeClassifier()</pre><b>In a Jupyter environment, please rerun this cell to show the HTML representation or trust the notebook. <br />On GitHub, the HTML representation is unable to render, please try loading this page with nbviewer.org.</b></div><div class=\"sk-container\" hidden><div class=\"sk-item\"><div class=\"sk-estimator sk-toggleable\"><input class=\"sk-toggleable__control sk-hidden--visually\" id=\"sk-estimator-id-5\" type=\"checkbox\" checked><label for=\"sk-estimator-id-5\" class=\"sk-toggleable__label sk-toggleable__label-arrow\">DecisionTreeClassifier</label><div class=\"sk-toggleable__content\"><pre>DecisionTreeClassifier()</pre></div></div></div></div></div>"
            ]
          },
          "metadata": {},
          "execution_count": 119
        }
      ]
    },
    {
      "cell_type": "code",
      "source": [
        "Y2_train_prediction = model2.predict(X_train)\n",
        "Acc_Y2_train = accuracy_score(Y2_train_prediction,Y2_train)\n",
        "print('Bullied_not_on_school_property_in_past_12_months prediction train Accuracy :',Acc_Y2_train*100)"
      ],
      "metadata": {
        "id": "mU7FhGHaVfM-",
        "colab": {
          "base_uri": "https://localhost:8080/"
        },
        "outputId": "29e5666f-794f-403a-e7d6-bd4f0bd5d260"
      },
      "execution_count": 120,
      "outputs": [
        {
          "output_type": "stream",
          "name": "stdout",
          "text": [
            "Bullied_not_on_school_property_in_past_12_months prediction train Accuracy : 90.71450258071046\n"
          ]
        }
      ]
    },
    {
      "cell_type": "code",
      "source": [
        "Y2_test_prediction = model2.predict(X_test)\n",
        "Acc_Y2_test = accuracy_score(Y2_test_prediction,Y2_test)\n",
        "print('Bullied_not_on_school_property_in_past_12_months Prediction test Accuracy: ',Acc_Y2_test*100)"
      ],
      "metadata": {
        "id": "WvwuGCDSVhId",
        "colab": {
          "base_uri": "https://localhost:8080/"
        },
        "outputId": "f1b959bc-232b-4dbf-c1e6-91607a351728"
      },
      "execution_count": 121,
      "outputs": [
        {
          "output_type": "stream",
          "name": "stdout",
          "text": [
            "Bullied_not_on_school_property_in_past_12_months Prediction test Accuracy:  72.89010321797207\n"
          ]
        }
      ]
    },
    {
      "cell_type": "code",
      "source": [
        "model3 = DecisionTreeClassifier()"
      ],
      "metadata": {
        "id": "IfetFjKPRd0A"
      },
      "execution_count": 122,
      "outputs": []
    },
    {
      "cell_type": "code",
      "source": [
        "model3.fit(X_train,Y3_train)"
      ],
      "metadata": {
        "colab": {
          "base_uri": "https://localhost:8080/",
          "height": 74
        },
        "id": "sS4z3ywfUZoK",
        "outputId": "6e4a9586-9764-4683-bbf9-bb005777b6eb"
      },
      "execution_count": 123,
      "outputs": [
        {
          "output_type": "execute_result",
          "data": {
            "text/plain": [
              "DecisionTreeClassifier()"
            ],
            "text/html": [
              "<style>#sk-container-id-6 {color: black;background-color: white;}#sk-container-id-6 pre{padding: 0;}#sk-container-id-6 div.sk-toggleable {background-color: white;}#sk-container-id-6 label.sk-toggleable__label {cursor: pointer;display: block;width: 100%;margin-bottom: 0;padding: 0.3em;box-sizing: border-box;text-align: center;}#sk-container-id-6 label.sk-toggleable__label-arrow:before {content: \"▸\";float: left;margin-right: 0.25em;color: #696969;}#sk-container-id-6 label.sk-toggleable__label-arrow:hover:before {color: black;}#sk-container-id-6 div.sk-estimator:hover label.sk-toggleable__label-arrow:before {color: black;}#sk-container-id-6 div.sk-toggleable__content {max-height: 0;max-width: 0;overflow: hidden;text-align: left;background-color: #f0f8ff;}#sk-container-id-6 div.sk-toggleable__content pre {margin: 0.2em;color: black;border-radius: 0.25em;background-color: #f0f8ff;}#sk-container-id-6 input.sk-toggleable__control:checked~div.sk-toggleable__content {max-height: 200px;max-width: 100%;overflow: auto;}#sk-container-id-6 input.sk-toggleable__control:checked~label.sk-toggleable__label-arrow:before {content: \"▾\";}#sk-container-id-6 div.sk-estimator input.sk-toggleable__control:checked~label.sk-toggleable__label {background-color: #d4ebff;}#sk-container-id-6 div.sk-label input.sk-toggleable__control:checked~label.sk-toggleable__label {background-color: #d4ebff;}#sk-container-id-6 input.sk-hidden--visually {border: 0;clip: rect(1px 1px 1px 1px);clip: rect(1px, 1px, 1px, 1px);height: 1px;margin: -1px;overflow: hidden;padding: 0;position: absolute;width: 1px;}#sk-container-id-6 div.sk-estimator {font-family: monospace;background-color: #f0f8ff;border: 1px dotted black;border-radius: 0.25em;box-sizing: border-box;margin-bottom: 0.5em;}#sk-container-id-6 div.sk-estimator:hover {background-color: #d4ebff;}#sk-container-id-6 div.sk-parallel-item::after {content: \"\";width: 100%;border-bottom: 1px solid gray;flex-grow: 1;}#sk-container-id-6 div.sk-label:hover label.sk-toggleable__label {background-color: #d4ebff;}#sk-container-id-6 div.sk-serial::before {content: \"\";position: absolute;border-left: 1px solid gray;box-sizing: border-box;top: 0;bottom: 0;left: 50%;z-index: 0;}#sk-container-id-6 div.sk-serial {display: flex;flex-direction: column;align-items: center;background-color: white;padding-right: 0.2em;padding-left: 0.2em;position: relative;}#sk-container-id-6 div.sk-item {position: relative;z-index: 1;}#sk-container-id-6 div.sk-parallel {display: flex;align-items: stretch;justify-content: center;background-color: white;position: relative;}#sk-container-id-6 div.sk-item::before, #sk-container-id-6 div.sk-parallel-item::before {content: \"\";position: absolute;border-left: 1px solid gray;box-sizing: border-box;top: 0;bottom: 0;left: 50%;z-index: -1;}#sk-container-id-6 div.sk-parallel-item {display: flex;flex-direction: column;z-index: 1;position: relative;background-color: white;}#sk-container-id-6 div.sk-parallel-item:first-child::after {align-self: flex-end;width: 50%;}#sk-container-id-6 div.sk-parallel-item:last-child::after {align-self: flex-start;width: 50%;}#sk-container-id-6 div.sk-parallel-item:only-child::after {width: 0;}#sk-container-id-6 div.sk-dashed-wrapped {border: 1px dashed gray;margin: 0 0.4em 0.5em 0.4em;box-sizing: border-box;padding-bottom: 0.4em;background-color: white;}#sk-container-id-6 div.sk-label label {font-family: monospace;font-weight: bold;display: inline-block;line-height: 1.2em;}#sk-container-id-6 div.sk-label-container {text-align: center;}#sk-container-id-6 div.sk-container {/* jupyter's `normalize.less` sets `[hidden] { display: none; }` but bootstrap.min.css set `[hidden] { display: none !important; }` so we also need the `!important` here to be able to override the default hidden behavior on the sphinx rendered scikit-learn.org. See: https://github.com/scikit-learn/scikit-learn/issues/21755 */display: inline-block !important;position: relative;}#sk-container-id-6 div.sk-text-repr-fallback {display: none;}</style><div id=\"sk-container-id-6\" class=\"sk-top-container\"><div class=\"sk-text-repr-fallback\"><pre>DecisionTreeClassifier()</pre><b>In a Jupyter environment, please rerun this cell to show the HTML representation or trust the notebook. <br />On GitHub, the HTML representation is unable to render, please try loading this page with nbviewer.org.</b></div><div class=\"sk-container\" hidden><div class=\"sk-item\"><div class=\"sk-estimator sk-toggleable\"><input class=\"sk-toggleable__control sk-hidden--visually\" id=\"sk-estimator-id-6\" type=\"checkbox\" checked><label for=\"sk-estimator-id-6\" class=\"sk-toggleable__label sk-toggleable__label-arrow\">DecisionTreeClassifier</label><div class=\"sk-toggleable__content\"><pre>DecisionTreeClassifier()</pre></div></div></div></div></div>"
            ]
          },
          "metadata": {},
          "execution_count": 123
        }
      ]
    },
    {
      "cell_type": "code",
      "source": [
        "Y3_train"
      ],
      "metadata": {
        "colab": {
          "base_uri": "https://localhost:8080/"
        },
        "id": "d5h_3qaxZOfe",
        "outputId": "0f75ba25-113d-4131-9c2b-7aed3108f9b8"
      },
      "execution_count": 124,
      "outputs": [
        {
          "output_type": "execute_result",
          "data": {
            "text/plain": [
              "17721    1\n",
              "40459    0\n",
              "31566    0\n",
              "23702    0\n",
              "45164    1\n",
              "        ..\n",
              "24038    1\n",
              "45620    0\n",
              "39089    1\n",
              "16939    1\n",
              "21700    0\n",
              "Name: Cyber_bullied_in_past_12_months, Length: 19762, dtype: int64"
            ]
          },
          "metadata": {},
          "execution_count": 124
        }
      ]
    },
    {
      "cell_type": "code",
      "source": [
        "print(Y1_train.shape)"
      ],
      "metadata": {
        "colab": {
          "base_uri": "https://localhost:8080/"
        },
        "id": "pcrUTGtCYNEp",
        "outputId": "c15aa8dd-04d4-4545-a6ee-8a4d5f6c6017"
      },
      "execution_count": 125,
      "outputs": [
        {
          "output_type": "stream",
          "name": "stdout",
          "text": [
            "(19762,)\n"
          ]
        }
      ]
    },
    {
      "cell_type": "code",
      "source": [
        "print(Y1_train)"
      ],
      "metadata": {
        "colab": {
          "base_uri": "https://localhost:8080/"
        },
        "id": "kJ6hb5vbUqEo",
        "outputId": "e1bd1e2e-3737-4bac-e4ca-cae4796e35d4"
      },
      "execution_count": 126,
      "outputs": [
        {
          "output_type": "stream",
          "name": "stdout",
          "text": [
            "17721    1\n",
            "40459    1\n",
            "31566    0\n",
            "23702    0\n",
            "45164    0\n",
            "        ..\n",
            "24038    0\n",
            "45620    0\n",
            "39089    0\n",
            "16939    0\n",
            "21700    0\n",
            "Name: Bullied_on_school_property_in_past_12_months, Length: 19762, dtype: int64\n"
          ]
        }
      ]
    },
    {
      "cell_type": "code",
      "source": [
        "Y3_train.info()"
      ],
      "metadata": {
        "colab": {
          "base_uri": "https://localhost:8080/"
        },
        "id": "nfOc5JH2VwC4",
        "outputId": "f11c32f8-8d58-4bab-ea6b-14fcb9756c9d"
      },
      "execution_count": 127,
      "outputs": [
        {
          "output_type": "stream",
          "name": "stdout",
          "text": [
            "<class 'pandas.core.series.Series'>\n",
            "Int64Index: 19762 entries, 17721 to 21700\n",
            "Series name: Cyber_bullied_in_past_12_months\n",
            "Non-Null Count  Dtype\n",
            "--------------  -----\n",
            "19762 non-null  int64\n",
            "dtypes: int64(1)\n",
            "memory usage: 308.8 KB\n"
          ]
        }
      ]
    },
    {
      "cell_type": "code",
      "source": [
        "Y3_train_prediction = model3.predict(X_train)\n",
        "Acc_Y3_train = accuracy_score(Y3_train_prediction,Y3_train)\n",
        "print('Cyber_bullied_in_past_12_months prediction train Accuracy :',Acc_Y3_train*100)"
      ],
      "metadata": {
        "id": "FLsbi7ZbVxdI",
        "colab": {
          "base_uri": "https://localhost:8080/"
        },
        "outputId": "cd972754-b6b5-4af9-cb1b-e5e2f22c326c"
      },
      "execution_count": 128,
      "outputs": [
        {
          "output_type": "stream",
          "name": "stdout",
          "text": [
            "Cyber_bullied_in_past_12_months prediction train Accuracy : 90.17305940694261\n"
          ]
        }
      ]
    },
    {
      "cell_type": "code",
      "source": [
        "Y3_test_prediction = model3.predict(X_test)\n",
        "Acc_Y3_test = accuracy_score(Y3_test_prediction,Y3_test)\n",
        "print('Cyber_bullied_in_past_12_months Prediction test Accuracy: ',Acc_Y3_test*100)"
      ],
      "metadata": {
        "id": "_AOrWux6V6UY",
        "colab": {
          "base_uri": "https://localhost:8080/"
        },
        "outputId": "e1276b2b-41ec-4a4b-ecd6-03d73a8e0cba"
      },
      "execution_count": 129,
      "outputs": [
        {
          "output_type": "stream",
          "name": "stdout",
          "text": [
            "Cyber_bullied_in_past_12_months Prediction test Accuracy:  73.01153612629022\n"
          ]
        }
      ]
    },
    {
      "cell_type": "code",
      "source": [
        "model3.predict([[0,0,0,0,2,2,2,0,1,1]])"
      ],
      "metadata": {
        "colab": {
          "base_uri": "https://localhost:8080/"
        },
        "id": "Zz6Bb5i3baps",
        "outputId": "6feec144-7638-4eb1-d377-b9f10d14aef3"
      },
      "execution_count": 130,
      "outputs": [
        {
          "output_type": "execute_result",
          "data": {
            "text/plain": [
              "array([0])"
            ]
          },
          "metadata": {},
          "execution_count": 130
        }
      ]
    },
    {
      "cell_type": "code",
      "source": [
        "tr=pd.DataFrame(Y1_test_prediction)"
      ],
      "metadata": {
        "id": "mj8PtufJbl08"
      },
      "execution_count": 131,
      "outputs": []
    },
    {
      "cell_type": "code",
      "source": [],
      "metadata": {
        "id": "TX559MK0dxap"
      },
      "execution_count": 131,
      "outputs": []
    },
    {
      "cell_type": "code",
      "source": [
        "print(Y1_test)"
      ],
      "metadata": {
        "id": "scSUkTn_IMMS",
        "colab": {
          "base_uri": "https://localhost:8080/"
        },
        "outputId": "6aa31409-78ad-42a4-c713-e24303523123"
      },
      "execution_count": 132,
      "outputs": [
        {
          "output_type": "stream",
          "name": "stdout",
          "text": [
            "35845    0\n",
            "39763    0\n",
            "50290    0\n",
            "20053    0\n",
            "52714    1\n",
            "        ..\n",
            "40840    0\n",
            "32503    0\n",
            "21802    0\n",
            "30010    0\n",
            "53574    0\n",
            "Name: Bullied_on_school_property_in_past_12_months, Length: 13176, dtype: int64\n"
          ]
        }
      ]
    },
    {
      "cell_type": "code",
      "source": [
        "u=pd.DataFrame(Y1_test)\n",
        "u.shape\n",
        "print(u)"
      ],
      "metadata": {
        "id": "OtmkNv4_JATX",
        "colab": {
          "base_uri": "https://localhost:8080/"
        },
        "outputId": "77dd9688-4cfc-448c-a0fa-18ce28737776"
      },
      "execution_count": 133,
      "outputs": [
        {
          "output_type": "stream",
          "name": "stdout",
          "text": [
            "       Bullied_on_school_property_in_past_12_months\n",
            "35845                                             0\n",
            "39763                                             0\n",
            "50290                                             0\n",
            "20053                                             0\n",
            "52714                                             1\n",
            "...                                             ...\n",
            "40840                                             0\n",
            "32503                                             0\n",
            "21802                                             0\n",
            "30010                                             0\n",
            "53574                                             0\n",
            "\n",
            "[13176 rows x 1 columns]\n"
          ]
        }
      ]
    },
    {
      "cell_type": "code",
      "source": [
        "# number of childeren bullied on school according to data\n",
        "k = u[u['Bullied_on_school_property_in_past_12_months']==1]\n",
        "print(k.shape[0])"
      ],
      "metadata": {
        "id": "trKgRQdUe4Nb",
        "colab": {
          "base_uri": "https://localhost:8080/"
        },
        "outputId": "d5fcc01b-bb3a-4f9c-c59e-d756cb9010cf"
      },
      "execution_count": 134,
      "outputs": [
        {
          "output_type": "stream",
          "name": "stdout",
          "text": [
            "2772\n"
          ]
        }
      ]
    },
    {
      "cell_type": "code",
      "source": [
        "# number of childeren not bullied on school according to data\n",
        "l = u[u['Bullied_on_school_property_in_past_12_months']==0]\n",
        "print(l.shape[0])"
      ],
      "metadata": {
        "colab": {
          "base_uri": "https://localhost:8080/"
        },
        "id": "50r_fJGQKajT",
        "outputId": "db9fd770-da2a-4de3-e5a1-6956d1f88341"
      },
      "execution_count": 135,
      "outputs": [
        {
          "output_type": "stream",
          "name": "stdout",
          "text": [
            "10404\n"
          ]
        }
      ]
    },
    {
      "cell_type": "code",
      "source": [
        "v= (pd.DataFrame(Y1_test_prediction))\n",
        "v.rename(columns={0:'Bullied_on_school_property_in_past_12_months'},inplace=True)"
      ],
      "metadata": {
        "id": "dDPSZgd-Sxhu"
      },
      "execution_count": 138,
      "outputs": []
    },
    {
      "cell_type": "code",
      "source": [
        "# number of bullied on school trained model prediction\n",
        "m = v[v['Bullied_on_school_property_in_past_12_months']==1]\n",
        "print(m.shape[0])"
      ],
      "metadata": {
        "colab": {
          "base_uri": "https://localhost:8080/"
        },
        "id": "M-rSk0HUVIZ3",
        "outputId": "66132f71-1677-46d9-8b64-e588496e0d97"
      },
      "execution_count": 141,
      "outputs": [
        {
          "output_type": "stream",
          "name": "stdout",
          "text": [
            "1882\n"
          ]
        }
      ]
    },
    {
      "cell_type": "code",
      "source": [
        "# number of not bullied on school trained model prediction\n",
        "n = v[v['Bullied_on_school_property_in_past_12_months']==0]\n",
        "print(n.shape[0])"
      ],
      "metadata": {
        "colab": {
          "base_uri": "https://localhost:8080/"
        },
        "id": "9lYrWMyWTNSd",
        "outputId": "9dd270a8-df12-4a9e-dbd4-c2dca9689f85"
      },
      "execution_count": 147,
      "outputs": [
        {
          "output_type": "stream",
          "name": "stdout",
          "text": [
            "11294\n"
          ]
        }
      ]
    },
    {
      "cell_type": "code",
      "source": [],
      "metadata": {
        "id": "AiG8qJOAO2WH"
      },
      "execution_count": 141,
      "outputs": []
    },
    {
      "cell_type": "code",
      "source": [
        "#importing pickle to save the model"
      ],
      "metadata": {
        "id": "uzLlsxni8Nds"
      },
      "execution_count": 142,
      "outputs": []
    },
    {
      "cell_type": "code",
      "source": [
        "import pickle\n",
        "name1 = 'Bully_on_school.sav'\n",
        "pickle.dump(model1,open(name1,'wb'))"
      ],
      "metadata": {
        "id": "4uGrxDSa8RX9"
      },
      "execution_count": 143,
      "outputs": []
    },
    {
      "cell_type": "code",
      "source": [
        "name2 = 'Bully_not_on_school.sav'\n",
        "pickle.dump(model2,open(name2,'wb'))"
      ],
      "metadata": {
        "id": "3gQRUZcI9fRg"
      },
      "execution_count": 144,
      "outputs": []
    },
    {
      "cell_type": "code",
      "source": [
        "name3 = 'Cyber_Bully.sav'\n",
        "pickle.dump(model3,open(name3,'wb'))"
      ],
      "metadata": {
        "id": "tw10Dx7s9-Pm"
      },
      "execution_count": 145,
      "outputs": []
    },
    {
      "cell_type": "code",
      "source": [
        "Graph = ['bullied on school']\n",
        "bullied = [2772,1882]\n",
        "not_bullied = [10404,11294]\n",
        "  \n",
        "n=2\n",
        "r = np.arange(n)\n",
        "width = 0.25\n",
        "  \n",
        "  \n",
        "plt.bar(r, bullied, color = 'b',\n",
        "        width = width, edgecolor = 'black',\n",
        "        label='Bullied')\n",
        "plt.bar(r + width, not_bullied, color = 'g',\n",
        "        width = width, edgecolor = 'black',\n",
        "        label='Not Bullied')\n",
        "  \n",
        "\n",
        "plt.ylabel(\"Number of Children\")\n",
        "plt.title(\"Number of Children bullied 'Data vs Model'\")\n",
        "  \n",
        "# plt.grid(linestyle='--')\n",
        "plt.xticks(r + width/2,['Dataset','Model Prediction'])\n",
        "plt.legend()\n",
        "  \n",
        "plt.show()"
      ],
      "metadata": {
        "colab": {
          "base_uri": "https://localhost:8080/",
          "height": 452
        },
        "id": "QiwyhTVTO4Dx",
        "outputId": "a0130f9f-a9a1-4f85-8955-8001a16c481a"
      },
      "execution_count": 153,
      "outputs": [
        {
          "output_type": "display_data",
          "data": {
            "text/plain": [
              "<Figure size 640x480 with 1 Axes>"
            ],
            "image/png": "[encoded data removed]"
          },
          "metadata": {}
        }
      ]
    },
    {
      "cell_type": "code",
      "source": [],
      "metadata": {
        "id": "jxWl_BhhRdCG"
      },
      "execution_count": null,
      "outputs": []
    }
  ]
}